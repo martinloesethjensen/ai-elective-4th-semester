{
 "cells": [
  {
   "cell_type": "markdown",
   "metadata": {},
   "source": [
    "### Programming Exercise Web Time Loop\n",
    "\n",
    "The __objectives__ are\n",
    "- practicing Python loop statements\n",
    "- using time library\n",
    "- integrating resources from the web\n",
    "\n",
    "The __task__ is to\n",
    "_create a Python program to remaind you that restless work with your computer is not good for your health_.\n",
    "The program should start playing music or video from the web once per hour.\n",
    "\n",
    "__Recommended__:<br>\n",
    "_First_, try to analyse the problem and design the solution by asking yourself\n",
    "- what, actually, would you like to be coded?\n",
    "\n",
    "_Second_, formulate which knowledge about Python, needed for this solution, you already have and which you are still missing\n",
    "- search Google for names of programming objects you want to learn more about\n",
    "\n",
    "_Next_, get a hint from the instructor's solution provided in a notebook.<br>\n",
    "\n",
    "_Finally_, create your own alternative solution and upload it at the __Assignments__ section."
   ]
  },
  {
   "cell_type": "markdown",
   "metadata": {},
   "source": [
    "### Here is one solution"
   ]
  },
  {
   "cell_type": "code",
   "execution_count": null,
   "metadata": {},
   "outputs": [
    {
     "name": "stdout",
     "output_type": "stream",
     "text": [
      "program started on Tue Feb 12 08:01:44 2019\n"
     ]
    }
   ],
   "source": [
    "# import library working with time\n",
    "# import library communicating with a web browser\n",
    "import time\n",
    "import webbrowser\n",
    "\n",
    "breaks = 3;    # three breaks per day\n",
    "mybreaks = 0;  # breaks taken until now\n",
    "\n",
    "# now\n",
    "print(\"program started on \" + time.ctime())\n",
    "\n",
    "while (mybreaks < breaks):\n",
    "    time.sleep(1 * 60 * 60)\n",
    "    mybreaks += 1\n",
    "    webbrowser.open(\"https://www.youtube.com/watch?v=...\")\n"
   ]
  },
  {
   "cell_type": "code",
   "execution_count": null,
   "metadata": {},
   "outputs": [],
   "source": []
  }
 ],
 "metadata": {
  "kernelspec": {
   "display_name": "Python 3",
   "language": "python",
   "name": "python3"
  },
  "language_info": {
   "codemirror_mode": {
    "name": "ipython",
    "version": 3
   },
   "file_extension": ".py",
   "mimetype": "text/x-python",
   "name": "python",
   "nbconvert_exporter": "python",
   "pygments_lexer": "ipython3",
   "version": "3.7.2"
  }
 },
 "nbformat": 4,
 "nbformat_minor": 2
}
