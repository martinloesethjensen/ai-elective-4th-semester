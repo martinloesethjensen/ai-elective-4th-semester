{
 "cells": [
  {
   "cell_type": "markdown",
   "metadata": {},
   "source": [
    "# Introduction to Machine Learning\n",
    "## Demo: Titanic Survivals\n",
    "<br><br>\n",
    "This demo code will illustrate solving a typical machine learning task.\n",
    "Based on data about all <a href = \"https://en.wikipedia.org/wiki/RMS_Titanic\">Titanic</a> passangers, both those that have survived and those that have not survived the tragic and the biggest passanger ship crash in the history (1912), we will make a model, which can be used for prediction of future and imaginery survivals.\n",
    "Please, note, that this are not just numbers, but numbers, associated with real people's destiny!\n"
   ]
  },
  {
   "cell_type": "markdown",
   "metadata": {},
   "source": [
    "![image.png](attachment:image.png)"
   ]
  },
  {
   "cell_type": "markdown",
   "metadata": {},
   "source": [
    "We will implement the following procedure:\n",
    "1. Prepare the environment by importing the major libraries, which contain modules and functions we will need.\n",
    "2. Get the available data\n",
    "3. Research the data to get an impression of what does it contain.\n",
    "4. Clean the data, so it can be analysed\n",
    "5. Chose a method and build a model\n",
    "6. Validate the model\n",
    "7. Use the model for prediction"
   ]
  },
  {
   "cell_type": "markdown",
   "metadata": {},
   "source": [
    "### Import the necessary Python libraries"
   ]
  },
  {
   "cell_type": "code",
   "execution_count": 1,
   "metadata": {},
   "outputs": [],
   "source": [
    "# import pandas for structuring the data\n",
    "import pandas as pd\n",
    "\n",
    "# import numpy for numerical analysis\n",
    "import numpy as np\n",
    "\n",
    "# import matplotlib for diagrams inline with the text\n",
    "import matplotlib.pyplot as plt\n",
    "%matplotlib inline\n",
    "\n",
    "# the most important library for machine learning algorithms\n",
    "from sklearn import datasets, svm, tree, preprocessing, metrics"
   ]
  },
  {
   "cell_type": "markdown",
   "metadata": {},
   "source": [
    "### Get the data \n",
    "In this demo we will use an excel file with the original data. In many other cases we can only find plain text or csv files."
   ]
  },
  {
   "cell_type": "code",
   "execution_count": 2,
   "metadata": {},
   "outputs": [],
   "source": [
    "# read the Excel file from your data folder into a data frame\n",
    "df = pd.read_excel('Data/TitanicSurvival.xls', index_col=None, na_values=['NA'])"
   ]
  },
  {
   "cell_type": "code",
   "execution_count": 3,
   "metadata": {},
   "outputs": [
    {
     "data": {
      "text/plain": [
       "(1309, 14)"
      ]
     },
     "execution_count": 3,
     "metadata": {},
     "output_type": "execute_result"
    }
   ],
   "source": [
    "# see the size\n",
    "df.shape"
   ]
  },
  {
   "cell_type": "code",
   "execution_count": 4,
   "metadata": {},
   "outputs": [
    {
     "data": {
      "text/plain": [
       "['pclass',\n",
       " 'survived',\n",
       " 'name',\n",
       " 'sex',\n",
       " 'age',\n",
       " 'sibsp',\n",
       " 'parch',\n",
       " 'ticket',\n",
       " 'fare',\n",
       " 'cabin',\n",
       " 'embarked',\n",
       " 'boat',\n",
       " 'body',\n",
       " 'home.dest']"
      ]
     },
     "execution_count": 4,
     "metadata": {},
     "output_type": "execute_result"
    }
   ],
   "source": [
    "# see which are the attribute labels\n",
    "list(df)"
   ]
  },
  {
   "cell_type": "raw",
   "metadata": {},
   "source": [
    "The labels mean the following:\n",
    "    - pclass: Passenger class (1 = first; 2 = second; 3 = third)\n",
    "    - survival: Survival (0 = no; 1 = yes)\n",
    "    - name: Name\n",
    "    - sex: Sex\n",
    "    - age: Age\n",
    "    - sibsp: Number of siblings/spouses aboard\n",
    "    - parch: Number of parents/children aboard\n",
    "    - ticket: Ticket number\n",
    "    - fare: Passenger fare\n",
    "    - cabin: Cabin\n",
    "    - embarked: Port of embarkation (C = Cherbourg, france; Q = Queenstown, Ireland; S = Southampton, UK)\n",
    "    - boat: Lifeboat (if survived)\n",
    "    - body: Body number (if did not survive and body was recovered)"
   ]
  },
  {
   "cell_type": "code",
   "execution_count": 5,
   "metadata": {},
   "outputs": [
    {
     "data": {
      "text/html": [
       "<div>\n",
       "<style scoped>\n",
       "    .dataframe tbody tr th:only-of-type {\n",
       "        vertical-align: middle;\n",
       "    }\n",
       "\n",
       "    .dataframe tbody tr th {\n",
       "        vertical-align: top;\n",
       "    }\n",
       "\n",
       "    .dataframe thead th {\n",
       "        text-align: right;\n",
       "    }\n",
       "</style>\n",
       "<table border=\"1\" class=\"dataframe\">\n",
       "  <thead>\n",
       "    <tr style=\"text-align: right;\">\n",
       "      <th></th>\n",
       "      <th>pclass</th>\n",
       "      <th>survived</th>\n",
       "      <th>name</th>\n",
       "      <th>sex</th>\n",
       "      <th>age</th>\n",
       "      <th>sibsp</th>\n",
       "      <th>parch</th>\n",
       "      <th>ticket</th>\n",
       "      <th>fare</th>\n",
       "      <th>cabin</th>\n",
       "      <th>embarked</th>\n",
       "      <th>boat</th>\n",
       "      <th>body</th>\n",
       "      <th>home.dest</th>\n",
       "    </tr>\n",
       "  </thead>\n",
       "  <tbody>\n",
       "    <tr>\n",
       "      <th>0</th>\n",
       "      <td>1</td>\n",
       "      <td>1</td>\n",
       "      <td>Allen, Miss. Elisabeth Walton</td>\n",
       "      <td>female</td>\n",
       "      <td>29.0000</td>\n",
       "      <td>0</td>\n",
       "      <td>0</td>\n",
       "      <td>24160</td>\n",
       "      <td>211.3375</td>\n",
       "      <td>B5</td>\n",
       "      <td>S</td>\n",
       "      <td>2</td>\n",
       "      <td>NaN</td>\n",
       "      <td>St Louis, MO</td>\n",
       "    </tr>\n",
       "    <tr>\n",
       "      <th>1</th>\n",
       "      <td>1</td>\n",
       "      <td>1</td>\n",
       "      <td>Allison, Master. Hudson Trevor</td>\n",
       "      <td>male</td>\n",
       "      <td>0.9167</td>\n",
       "      <td>1</td>\n",
       "      <td>2</td>\n",
       "      <td>113781</td>\n",
       "      <td>151.5500</td>\n",
       "      <td>C22 C26</td>\n",
       "      <td>S</td>\n",
       "      <td>11</td>\n",
       "      <td>NaN</td>\n",
       "      <td>Montreal, PQ / Chesterville, ON</td>\n",
       "    </tr>\n",
       "    <tr>\n",
       "      <th>2</th>\n",
       "      <td>1</td>\n",
       "      <td>0</td>\n",
       "      <td>Allison, Miss. Helen Loraine</td>\n",
       "      <td>female</td>\n",
       "      <td>2.0000</td>\n",
       "      <td>1</td>\n",
       "      <td>2</td>\n",
       "      <td>113781</td>\n",
       "      <td>151.5500</td>\n",
       "      <td>C22 C26</td>\n",
       "      <td>S</td>\n",
       "      <td>NaN</td>\n",
       "      <td>NaN</td>\n",
       "      <td>Montreal, PQ / Chesterville, ON</td>\n",
       "    </tr>\n",
       "    <tr>\n",
       "      <th>3</th>\n",
       "      <td>1</td>\n",
       "      <td>0</td>\n",
       "      <td>Allison, Mr. Hudson Joshua Creighton</td>\n",
       "      <td>male</td>\n",
       "      <td>30.0000</td>\n",
       "      <td>1</td>\n",
       "      <td>2</td>\n",
       "      <td>113781</td>\n",
       "      <td>151.5500</td>\n",
       "      <td>C22 C26</td>\n",
       "      <td>S</td>\n",
       "      <td>NaN</td>\n",
       "      <td>135.0</td>\n",
       "      <td>Montreal, PQ / Chesterville, ON</td>\n",
       "    </tr>\n",
       "    <tr>\n",
       "      <th>4</th>\n",
       "      <td>1</td>\n",
       "      <td>0</td>\n",
       "      <td>Allison, Mrs. Hudson J C (Bessie Waldo Daniels)</td>\n",
       "      <td>female</td>\n",
       "      <td>25.0000</td>\n",
       "      <td>1</td>\n",
       "      <td>2</td>\n",
       "      <td>113781</td>\n",
       "      <td>151.5500</td>\n",
       "      <td>C22 C26</td>\n",
       "      <td>S</td>\n",
       "      <td>NaN</td>\n",
       "      <td>NaN</td>\n",
       "      <td>Montreal, PQ / Chesterville, ON</td>\n",
       "    </tr>\n",
       "  </tbody>\n",
       "</table>\n",
       "</div>"
      ],
      "text/plain": [
       "   pclass  survived                                             name     sex  \\\n",
       "0       1         1                    Allen, Miss. Elisabeth Walton  female   \n",
       "1       1         1                   Allison, Master. Hudson Trevor    male   \n",
       "2       1         0                     Allison, Miss. Helen Loraine  female   \n",
       "3       1         0             Allison, Mr. Hudson Joshua Creighton    male   \n",
       "4       1         0  Allison, Mrs. Hudson J C (Bessie Waldo Daniels)  female   \n",
       "\n",
       "       age  sibsp  parch  ticket      fare    cabin embarked boat   body  \\\n",
       "0  29.0000      0      0   24160  211.3375       B5        S    2    NaN   \n",
       "1   0.9167      1      2  113781  151.5500  C22 C26        S   11    NaN   \n",
       "2   2.0000      1      2  113781  151.5500  C22 C26        S  NaN    NaN   \n",
       "3  30.0000      1      2  113781  151.5500  C22 C26        S  NaN  135.0   \n",
       "4  25.0000      1      2  113781  151.5500  C22 C26        S  NaN    NaN   \n",
       "\n",
       "                         home.dest  \n",
       "0                     St Louis, MO  \n",
       "1  Montreal, PQ / Chesterville, ON  \n",
       "2  Montreal, PQ / Chesterville, ON  \n",
       "3  Montreal, PQ / Chesterville, ON  \n",
       "4  Montreal, PQ / Chesterville, ON  "
      ]
     },
     "execution_count": 5,
     "metadata": {},
     "output_type": "execute_result"
    }
   ],
   "source": [
    "# see the first five records\n",
    "df.head()\n",
    "#df[:5]\n",
    "\n",
    "#df.tail()\n",
    "#df[-5:]"
   ]
  },
  {
   "cell_type": "markdown",
   "metadata": {},
   "source": [
    "### Research the data"
   ]
  },
  {
   "cell_type": "code",
   "execution_count": 6,
   "metadata": {},
   "outputs": [
    {
     "data": {
      "text/plain": [
       "pclass         int64\n",
       "survived       int64\n",
       "name          object\n",
       "sex           object\n",
       "age          float64\n",
       "sibsp          int64\n",
       "parch          int64\n",
       "ticket        object\n",
       "fare         float64\n",
       "cabin         object\n",
       "embarked      object\n",
       "boat          object\n",
       "body         float64\n",
       "home.dest     object\n",
       "dtype: object"
      ]
     },
     "execution_count": 6,
     "metadata": {},
     "output_type": "execute_result"
    }
   ],
   "source": [
    "# see the types of the attributes\n",
    "df.dtypes"
   ]
  },
  {
   "cell_type": "code",
   "execution_count": 7,
   "metadata": {},
   "outputs": [
    {
     "data": {
      "text/html": [
       "<div>\n",
       "<style scoped>\n",
       "    .dataframe tbody tr th:only-of-type {\n",
       "        vertical-align: middle;\n",
       "    }\n",
       "\n",
       "    .dataframe tbody tr th {\n",
       "        vertical-align: top;\n",
       "    }\n",
       "\n",
       "    .dataframe thead th {\n",
       "        text-align: right;\n",
       "    }\n",
       "</style>\n",
       "<table border=\"1\" class=\"dataframe\">\n",
       "  <thead>\n",
       "    <tr style=\"text-align: right;\">\n",
       "      <th></th>\n",
       "      <th>pclass</th>\n",
       "      <th>survived</th>\n",
       "      <th>age</th>\n",
       "      <th>sibsp</th>\n",
       "      <th>parch</th>\n",
       "      <th>fare</th>\n",
       "      <th>body</th>\n",
       "    </tr>\n",
       "  </thead>\n",
       "  <tbody>\n",
       "    <tr>\n",
       "      <th>count</th>\n",
       "      <td>1309.000000</td>\n",
       "      <td>1309.000000</td>\n",
       "      <td>1046.000000</td>\n",
       "      <td>1309.000000</td>\n",
       "      <td>1309.000000</td>\n",
       "      <td>1308.000000</td>\n",
       "      <td>121.000000</td>\n",
       "    </tr>\n",
       "    <tr>\n",
       "      <th>mean</th>\n",
       "      <td>2.294882</td>\n",
       "      <td>0.381971</td>\n",
       "      <td>29.881135</td>\n",
       "      <td>0.498854</td>\n",
       "      <td>0.385027</td>\n",
       "      <td>33.295479</td>\n",
       "      <td>160.809917</td>\n",
       "    </tr>\n",
       "    <tr>\n",
       "      <th>std</th>\n",
       "      <td>0.837836</td>\n",
       "      <td>0.486055</td>\n",
       "      <td>14.413500</td>\n",
       "      <td>1.041658</td>\n",
       "      <td>0.865560</td>\n",
       "      <td>51.758668</td>\n",
       "      <td>97.696922</td>\n",
       "    </tr>\n",
       "    <tr>\n",
       "      <th>min</th>\n",
       "      <td>1.000000</td>\n",
       "      <td>0.000000</td>\n",
       "      <td>0.166700</td>\n",
       "      <td>0.000000</td>\n",
       "      <td>0.000000</td>\n",
       "      <td>0.000000</td>\n",
       "      <td>1.000000</td>\n",
       "    </tr>\n",
       "    <tr>\n",
       "      <th>25%</th>\n",
       "      <td>2.000000</td>\n",
       "      <td>0.000000</td>\n",
       "      <td>21.000000</td>\n",
       "      <td>0.000000</td>\n",
       "      <td>0.000000</td>\n",
       "      <td>7.895800</td>\n",
       "      <td>72.000000</td>\n",
       "    </tr>\n",
       "    <tr>\n",
       "      <th>50%</th>\n",
       "      <td>3.000000</td>\n",
       "      <td>0.000000</td>\n",
       "      <td>28.000000</td>\n",
       "      <td>0.000000</td>\n",
       "      <td>0.000000</td>\n",
       "      <td>14.454200</td>\n",
       "      <td>155.000000</td>\n",
       "    </tr>\n",
       "    <tr>\n",
       "      <th>75%</th>\n",
       "      <td>3.000000</td>\n",
       "      <td>1.000000</td>\n",
       "      <td>39.000000</td>\n",
       "      <td>1.000000</td>\n",
       "      <td>0.000000</td>\n",
       "      <td>31.275000</td>\n",
       "      <td>256.000000</td>\n",
       "    </tr>\n",
       "    <tr>\n",
       "      <th>max</th>\n",
       "      <td>3.000000</td>\n",
       "      <td>1.000000</td>\n",
       "      <td>80.000000</td>\n",
       "      <td>8.000000</td>\n",
       "      <td>9.000000</td>\n",
       "      <td>512.329200</td>\n",
       "      <td>328.000000</td>\n",
       "    </tr>\n",
       "  </tbody>\n",
       "</table>\n",
       "</div>"
      ],
      "text/plain": [
       "            pclass     survived          age        sibsp        parch  \\\n",
       "count  1309.000000  1309.000000  1046.000000  1309.000000  1309.000000   \n",
       "mean      2.294882     0.381971    29.881135     0.498854     0.385027   \n",
       "std       0.837836     0.486055    14.413500     1.041658     0.865560   \n",
       "min       1.000000     0.000000     0.166700     0.000000     0.000000   \n",
       "25%       2.000000     0.000000    21.000000     0.000000     0.000000   \n",
       "50%       3.000000     0.000000    28.000000     0.000000     0.000000   \n",
       "75%       3.000000     1.000000    39.000000     1.000000     0.000000   \n",
       "max       3.000000     1.000000    80.000000     8.000000     9.000000   \n",
       "\n",
       "              fare        body  \n",
       "count  1308.000000  121.000000  \n",
       "mean     33.295479  160.809917  \n",
       "std      51.758668   97.696922  \n",
       "min       0.000000    1.000000  \n",
       "25%       7.895800   72.000000  \n",
       "50%      14.454200  155.000000  \n",
       "75%      31.275000  256.000000  \n",
       "max     512.329200  328.000000  "
      ]
     },
     "execution_count": 7,
     "metadata": {},
     "output_type": "execute_result"
    }
   ],
   "source": [
    "# get some insights of the value scope\n",
    "df.describe()"
   ]
  },
  {
   "cell_type": "code",
   "execution_count": 8,
   "metadata": {},
   "outputs": [
    {
     "data": {
      "text/plain": [
       "<matplotlib.axes._subplots.AxesSubplot at 0x11983490>"
      ]
     },
     "execution_count": 8,
     "metadata": {},
     "output_type": "execute_result"
    },
    {
     "data": {
      "image/png": "[encoded data removed]",
      "text/plain": [
       "<Figure size 432x288 with 1 Axes>"
      ]
     },
     "metadata": {
      "needs_background": "light"
     },
     "output_type": "display_data"
    }
   ],
   "source": [
    "# Non-numeric data is not included in the statistic above, but can be plotted\n",
    "df['embarked'].value_counts().plot('bar')"
   ]
  },
  {
   "cell_type": "code",
   "execution_count": 9,
   "metadata": {},
   "outputs": [
    {
     "data": {
      "text/plain": [
       "<matplotlib.axes._subplots.AxesSubplot at 0x1193da10>"
      ]
     },
     "execution_count": 9,
     "metadata": {},
     "output_type": "execute_result"
    },
    {
     "data": {
      "image/png": "[encoded data removed]",
      "text/plain": [
       "<Figure size 432x288 with 1 Axes>"
      ]
     },
     "metadata": {
      "needs_background": "light"
     },
     "output_type": "display_data"
    }
   ],
   "source": [
    "# Numeric data can also be plotted \n",
    "df['survived'].value_counts().plot('bar')"
   ]
  },
  {
   "cell_type": "markdown",
   "metadata": {},
   "source": [
    "Incredibly low % of survivals: 38% <br>\n",
    "Titanic was only carrying 20 lifeboats for 1317 passengers and 885 crew members aboard!"
   ]
  },
  {
   "cell_type": "markdown",
   "metadata": {},
   "source": [
    "#### Social status"
   ]
  },
  {
   "cell_type": "code",
   "execution_count": 10,
   "metadata": {},
   "outputs": [
    {
     "data": {
      "text/html": [
       "<div>\n",
       "<style scoped>\n",
       "    .dataframe tbody tr th:only-of-type {\n",
       "        vertical-align: middle;\n",
       "    }\n",
       "\n",
       "    .dataframe tbody tr th {\n",
       "        vertical-align: top;\n",
       "    }\n",
       "\n",
       "    .dataframe thead th {\n",
       "        text-align: right;\n",
       "    }\n",
       "</style>\n",
       "<table border=\"1\" class=\"dataframe\">\n",
       "  <thead>\n",
       "    <tr style=\"text-align: right;\">\n",
       "      <th></th>\n",
       "      <th>survived</th>\n",
       "      <th>age</th>\n",
       "      <th>sibsp</th>\n",
       "      <th>parch</th>\n",
       "      <th>fare</th>\n",
       "      <th>body</th>\n",
       "    </tr>\n",
       "    <tr>\n",
       "      <th>pclass</th>\n",
       "      <th></th>\n",
       "      <th></th>\n",
       "      <th></th>\n",
       "      <th></th>\n",
       "      <th></th>\n",
       "      <th></th>\n",
       "    </tr>\n",
       "  </thead>\n",
       "  <tbody>\n",
       "    <tr>\n",
       "      <th>1</th>\n",
       "      <td>0.619195</td>\n",
       "      <td>39.159918</td>\n",
       "      <td>0.436533</td>\n",
       "      <td>0.365325</td>\n",
       "      <td>87.508992</td>\n",
       "      <td>162.828571</td>\n",
       "    </tr>\n",
       "    <tr>\n",
       "      <th>2</th>\n",
       "      <td>0.429603</td>\n",
       "      <td>29.506705</td>\n",
       "      <td>0.393502</td>\n",
       "      <td>0.368231</td>\n",
       "      <td>21.179196</td>\n",
       "      <td>167.387097</td>\n",
       "    </tr>\n",
       "    <tr>\n",
       "      <th>3</th>\n",
       "      <td>0.255289</td>\n",
       "      <td>24.816367</td>\n",
       "      <td>0.568406</td>\n",
       "      <td>0.400564</td>\n",
       "      <td>13.302889</td>\n",
       "      <td>155.818182</td>\n",
       "    </tr>\n",
       "  </tbody>\n",
       "</table>\n",
       "</div>"
      ],
      "text/plain": [
       "        survived        age     sibsp     parch       fare        body\n",
       "pclass                                                                \n",
       "1       0.619195  39.159918  0.436533  0.365325  87.508992  162.828571\n",
       "2       0.429603  29.506705  0.393502  0.368231  21.179196  167.387097\n",
       "3       0.255289  24.816367  0.568406  0.400564  13.302889  155.818182"
      ]
     },
     "execution_count": 10,
     "metadata": {},
     "output_type": "execute_result"
    }
   ],
   "source": [
    "# Did the social class matter?\n",
    "social = df.groupby('pclass').mean()\n",
    "social"
   ]
  },
  {
   "cell_type": "code",
   "execution_count": 11,
   "metadata": {},
   "outputs": [
    {
     "data": {
      "text/plain": [
       "<matplotlib.axes._subplots.AxesSubplot at 0x12a122d0>"
      ]
     },
     "execution_count": 11,
     "metadata": {},
     "output_type": "execute_result"
    },
    {
     "data": {
      "image/png": "[encoded data removed]",
      "text/plain": [
       "<Figure size 432x288 with 1 Axes>"
      ]
     },
     "metadata": {
      "needs_background": "light"
     },
     "output_type": "display_data"
    }
   ],
   "source": [
    "# plot\n",
    "social['survived'].plot.bar()"
   ]
  },
  {
   "cell_type": "markdown",
   "metadata": {},
   "source": [
    "#### Gender"
   ]
  },
  {
   "cell_type": "code",
   "execution_count": 12,
   "metadata": {},
   "outputs": [
    {
     "data": {
      "text/html": [
       "<div>\n",
       "<style scoped>\n",
       "    .dataframe tbody tr th:only-of-type {\n",
       "        vertical-align: middle;\n",
       "    }\n",
       "\n",
       "    .dataframe tbody tr th {\n",
       "        vertical-align: top;\n",
       "    }\n",
       "\n",
       "    .dataframe thead th {\n",
       "        text-align: right;\n",
       "    }\n",
       "</style>\n",
       "<table border=\"1\" class=\"dataframe\">\n",
       "  <thead>\n",
       "    <tr style=\"text-align: right;\">\n",
       "      <th></th>\n",
       "      <th>pclass</th>\n",
       "      <th>survived</th>\n",
       "      <th>age</th>\n",
       "      <th>sibsp</th>\n",
       "      <th>parch</th>\n",
       "      <th>fare</th>\n",
       "      <th>body</th>\n",
       "    </tr>\n",
       "    <tr>\n",
       "      <th>sex</th>\n",
       "      <th></th>\n",
       "      <th></th>\n",
       "      <th></th>\n",
       "      <th></th>\n",
       "      <th></th>\n",
       "      <th></th>\n",
       "      <th></th>\n",
       "    </tr>\n",
       "  </thead>\n",
       "  <tbody>\n",
       "    <tr>\n",
       "      <th>female</th>\n",
       "      <td>2.154506</td>\n",
       "      <td>0.727468</td>\n",
       "      <td>28.687071</td>\n",
       "      <td>0.652361</td>\n",
       "      <td>0.633047</td>\n",
       "      <td>46.198097</td>\n",
       "      <td>166.62500</td>\n",
       "    </tr>\n",
       "    <tr>\n",
       "      <th>male</th>\n",
       "      <td>2.372479</td>\n",
       "      <td>0.190985</td>\n",
       "      <td>30.585233</td>\n",
       "      <td>0.413998</td>\n",
       "      <td>0.247924</td>\n",
       "      <td>26.154601</td>\n",
       "      <td>160.39823</td>\n",
       "    </tr>\n",
       "  </tbody>\n",
       "</table>\n",
       "</div>"
      ],
      "text/plain": [
       "          pclass  survived        age     sibsp     parch       fare  \\\n",
       "sex                                                                    \n",
       "female  2.154506  0.727468  28.687071  0.652361  0.633047  46.198097   \n",
       "male    2.372479  0.190985  30.585233  0.413998  0.247924  26.154601   \n",
       "\n",
       "             body  \n",
       "sex                \n",
       "female  166.62500  \n",
       "male    160.39823  "
      ]
     },
     "execution_count": 12,
     "metadata": {},
     "output_type": "execute_result"
    }
   ],
   "source": [
    "# Did the gender matter?\n",
    "gender = df.groupby('sex').mean()\n",
    "gender"
   ]
  },
  {
   "cell_type": "code",
   "execution_count": 13,
   "metadata": {},
   "outputs": [
    {
     "data": {
      "text/plain": [
       "<matplotlib.axes._subplots.AxesSubplot at 0x12a4ea70>"
      ]
     },
     "execution_count": 13,
     "metadata": {},
     "output_type": "execute_result"
    },
    {
     "data": {
      "image/png": "[encoded data removed]",
      "text/plain": [
       "<Figure size 432x288 with 1 Axes>"
      ]
     },
     "metadata": {
      "needs_background": "light"
     },
     "output_type": "display_data"
    }
   ],
   "source": [
    "# plot\n",
    "gender['survived'].plot.bar()"
   ]
  },
  {
   "cell_type": "code",
   "execution_count": 14,
   "metadata": {},
   "outputs": [
    {
     "data": {
      "text/html": [
       "<div>\n",
       "<style scoped>\n",
       "    .dataframe tbody tr th:only-of-type {\n",
       "        vertical-align: middle;\n",
       "    }\n",
       "\n",
       "    .dataframe tbody tr th {\n",
       "        vertical-align: top;\n",
       "    }\n",
       "\n",
       "    .dataframe thead th {\n",
       "        text-align: right;\n",
       "    }\n",
       "</style>\n",
       "<table border=\"1\" class=\"dataframe\">\n",
       "  <thead>\n",
       "    <tr style=\"text-align: right;\">\n",
       "      <th></th>\n",
       "      <th></th>\n",
       "      <th>survived</th>\n",
       "      <th>age</th>\n",
       "      <th>sibsp</th>\n",
       "      <th>parch</th>\n",
       "      <th>fare</th>\n",
       "      <th>body</th>\n",
       "    </tr>\n",
       "    <tr>\n",
       "      <th>pclass</th>\n",
       "      <th>sex</th>\n",
       "      <th></th>\n",
       "      <th></th>\n",
       "      <th></th>\n",
       "      <th></th>\n",
       "      <th></th>\n",
       "      <th></th>\n",
       "    </tr>\n",
       "  </thead>\n",
       "  <tbody>\n",
       "    <tr>\n",
       "      <th rowspan=\"2\" valign=\"top\">1</th>\n",
       "      <th>female</th>\n",
       "      <td>0.965278</td>\n",
       "      <td>37.037594</td>\n",
       "      <td>0.555556</td>\n",
       "      <td>0.472222</td>\n",
       "      <td>109.412385</td>\n",
       "      <td>NaN</td>\n",
       "    </tr>\n",
       "    <tr>\n",
       "      <th>male</th>\n",
       "      <td>0.340782</td>\n",
       "      <td>41.029250</td>\n",
       "      <td>0.340782</td>\n",
       "      <td>0.279330</td>\n",
       "      <td>69.888385</td>\n",
       "      <td>162.828571</td>\n",
       "    </tr>\n",
       "    <tr>\n",
       "      <th rowspan=\"2\" valign=\"top\">2</th>\n",
       "      <th>female</th>\n",
       "      <td>0.886792</td>\n",
       "      <td>27.499191</td>\n",
       "      <td>0.500000</td>\n",
       "      <td>0.650943</td>\n",
       "      <td>23.234827</td>\n",
       "      <td>52.000000</td>\n",
       "    </tr>\n",
       "    <tr>\n",
       "      <th>male</th>\n",
       "      <td>0.146199</td>\n",
       "      <td>30.815401</td>\n",
       "      <td>0.327485</td>\n",
       "      <td>0.192982</td>\n",
       "      <td>19.904946</td>\n",
       "      <td>171.233333</td>\n",
       "    </tr>\n",
       "    <tr>\n",
       "      <th rowspan=\"2\" valign=\"top\">3</th>\n",
       "      <th>female</th>\n",
       "      <td>0.490741</td>\n",
       "      <td>22.185307</td>\n",
       "      <td>0.791667</td>\n",
       "      <td>0.731481</td>\n",
       "      <td>15.324250</td>\n",
       "      <td>183.000000</td>\n",
       "    </tr>\n",
       "    <tr>\n",
       "      <th>male</th>\n",
       "      <td>0.152130</td>\n",
       "      <td>25.962273</td>\n",
       "      <td>0.470588</td>\n",
       "      <td>0.255578</td>\n",
       "      <td>12.415462</td>\n",
       "      <td>151.854167</td>\n",
       "    </tr>\n",
       "  </tbody>\n",
       "</table>\n",
       "</div>"
      ],
      "text/plain": [
       "               survived        age     sibsp     parch        fare        body\n",
       "pclass sex                                                                    \n",
       "1      female  0.965278  37.037594  0.555556  0.472222  109.412385         NaN\n",
       "       male    0.340782  41.029250  0.340782  0.279330   69.888385  162.828571\n",
       "2      female  0.886792  27.499191  0.500000  0.650943   23.234827   52.000000\n",
       "       male    0.146199  30.815401  0.327485  0.192982   19.904946  171.233333\n",
       "3      female  0.490741  22.185307  0.791667  0.731481   15.324250  183.000000\n",
       "       male    0.152130  25.962273  0.470588  0.255578   12.415462  151.854167"
      ]
     },
     "execution_count": 14,
     "metadata": {},
     "output_type": "execute_result"
    }
   ],
   "source": [
    "# gender by class\n",
    "gender_by_class = df.groupby(['pclass','sex']).mean()\n",
    "gender_by_class"
   ]
  },
  {
   "cell_type": "code",
   "execution_count": 15,
   "metadata": {},
   "outputs": [
    {
     "data": {
      "text/plain": [
       "<matplotlib.axes._subplots.AxesSubplot at 0x12aa54b0>"
      ]
     },
     "execution_count": 15,
     "metadata": {},
     "output_type": "execute_result"
    },
    {
     "data": {
      "image/png": "[encoded data removed]",
      "text/plain": [
       "<Figure size 432x288 with 1 Axes>"
      ]
     },
     "metadata": {
      "needs_background": "light"
     },
     "output_type": "display_data"
    }
   ],
   "source": [
    "# plot\n",
    "gender_by_class['survived'].plot.bar()"
   ]
  },
  {
   "cell_type": "markdown",
   "metadata": {},
   "source": [
    "#### Age"
   ]
  },
  {
   "cell_type": "code",
   "execution_count": 16,
   "metadata": {},
   "outputs": [
    {
     "data": {
      "text/html": [
       "<div>\n",
       "<style scoped>\n",
       "    .dataframe tbody tr th:only-of-type {\n",
       "        vertical-align: middle;\n",
       "    }\n",
       "\n",
       "    .dataframe tbody tr th {\n",
       "        vertical-align: top;\n",
       "    }\n",
       "\n",
       "    .dataframe thead th {\n",
       "        text-align: right;\n",
       "    }\n",
       "</style>\n",
       "<table border=\"1\" class=\"dataframe\">\n",
       "  <thead>\n",
       "    <tr style=\"text-align: right;\">\n",
       "      <th></th>\n",
       "      <th>pclass</th>\n",
       "      <th>survived</th>\n",
       "      <th>name</th>\n",
       "      <th>sex</th>\n",
       "      <th>age</th>\n",
       "      <th>sibsp</th>\n",
       "      <th>parch</th>\n",
       "      <th>ticket</th>\n",
       "      <th>fare</th>\n",
       "      <th>cabin</th>\n",
       "      <th>embarked</th>\n",
       "      <th>boat</th>\n",
       "      <th>body</th>\n",
       "      <th>home.dest</th>\n",
       "    </tr>\n",
       "    <tr>\n",
       "      <th>age</th>\n",
       "      <th></th>\n",
       "      <th></th>\n",
       "      <th></th>\n",
       "      <th></th>\n",
       "      <th></th>\n",
       "      <th></th>\n",
       "      <th></th>\n",
       "      <th></th>\n",
       "      <th></th>\n",
       "      <th></th>\n",
       "      <th></th>\n",
       "      <th></th>\n",
       "      <th></th>\n",
       "      <th></th>\n",
       "    </tr>\n",
       "  </thead>\n",
       "  <tbody>\n",
       "    <tr>\n",
       "      <th>(0, 10]</th>\n",
       "      <td>86</td>\n",
       "      <td>86</td>\n",
       "      <td>86</td>\n",
       "      <td>86</td>\n",
       "      <td>86</td>\n",
       "      <td>86</td>\n",
       "      <td>86</td>\n",
       "      <td>86</td>\n",
       "      <td>86</td>\n",
       "      <td>12</td>\n",
       "      <td>86</td>\n",
       "      <td>50</td>\n",
       "      <td>1</td>\n",
       "      <td>51</td>\n",
       "    </tr>\n",
       "    <tr>\n",
       "      <th>(10, 20]</th>\n",
       "      <td>162</td>\n",
       "      <td>162</td>\n",
       "      <td>162</td>\n",
       "      <td>162</td>\n",
       "      <td>162</td>\n",
       "      <td>162</td>\n",
       "      <td>162</td>\n",
       "      <td>162</td>\n",
       "      <td>162</td>\n",
       "      <td>25</td>\n",
       "      <td>162</td>\n",
       "      <td>59</td>\n",
       "      <td>13</td>\n",
       "      <td>98</td>\n",
       "    </tr>\n",
       "    <tr>\n",
       "      <th>(20, 30]</th>\n",
       "      <td>361</td>\n",
       "      <td>361</td>\n",
       "      <td>361</td>\n",
       "      <td>361</td>\n",
       "      <td>361</td>\n",
       "      <td>361</td>\n",
       "      <td>361</td>\n",
       "      <td>361</td>\n",
       "      <td>361</td>\n",
       "      <td>62</td>\n",
       "      <td>361</td>\n",
       "      <td>132</td>\n",
       "      <td>33</td>\n",
       "      <td>208</td>\n",
       "    </tr>\n",
       "    <tr>\n",
       "      <th>(30, 40]</th>\n",
       "      <td>210</td>\n",
       "      <td>210</td>\n",
       "      <td>210</td>\n",
       "      <td>210</td>\n",
       "      <td>210</td>\n",
       "      <td>210</td>\n",
       "      <td>210</td>\n",
       "      <td>210</td>\n",
       "      <td>210</td>\n",
       "      <td>65</td>\n",
       "      <td>209</td>\n",
       "      <td>90</td>\n",
       "      <td>32</td>\n",
       "      <td>141</td>\n",
       "    </tr>\n",
       "    <tr>\n",
       "      <th>(40, 50]</th>\n",
       "      <td>132</td>\n",
       "      <td>132</td>\n",
       "      <td>132</td>\n",
       "      <td>132</td>\n",
       "      <td>132</td>\n",
       "      <td>132</td>\n",
       "      <td>132</td>\n",
       "      <td>132</td>\n",
       "      <td>132</td>\n",
       "      <td>54</td>\n",
       "      <td>132</td>\n",
       "      <td>49</td>\n",
       "      <td>22</td>\n",
       "      <td>103</td>\n",
       "    </tr>\n",
       "    <tr>\n",
       "      <th>(50, 60]</th>\n",
       "      <td>62</td>\n",
       "      <td>62</td>\n",
       "      <td>62</td>\n",
       "      <td>62</td>\n",
       "      <td>62</td>\n",
       "      <td>62</td>\n",
       "      <td>62</td>\n",
       "      <td>62</td>\n",
       "      <td>62</td>\n",
       "      <td>36</td>\n",
       "      <td>62</td>\n",
       "      <td>29</td>\n",
       "      <td>9</td>\n",
       "      <td>58</td>\n",
       "    </tr>\n",
       "    <tr>\n",
       "      <th>(60, 70]</th>\n",
       "      <td>27</td>\n",
       "      <td>27</td>\n",
       "      <td>27</td>\n",
       "      <td>27</td>\n",
       "      <td>27</td>\n",
       "      <td>27</td>\n",
       "      <td>27</td>\n",
       "      <td>27</td>\n",
       "      <td>26</td>\n",
       "      <td>15</td>\n",
       "      <td>26</td>\n",
       "      <td>6</td>\n",
       "      <td>8</td>\n",
       "      <td>22</td>\n",
       "    </tr>\n",
       "    <tr>\n",
       "      <th>(70, 80]</th>\n",
       "      <td>6</td>\n",
       "      <td>6</td>\n",
       "      <td>6</td>\n",
       "      <td>6</td>\n",
       "      <td>6</td>\n",
       "      <td>6</td>\n",
       "      <td>6</td>\n",
       "      <td>6</td>\n",
       "      <td>6</td>\n",
       "      <td>3</td>\n",
       "      <td>6</td>\n",
       "      <td>2</td>\n",
       "      <td>2</td>\n",
       "      <td>4</td>\n",
       "    </tr>\n",
       "  </tbody>\n",
       "</table>\n",
       "</div>"
      ],
      "text/plain": [
       "          pclass  survived  name  sex  age  sibsp  parch  ticket  fare  cabin  \\\n",
       "age                                                                             \n",
       "(0, 10]       86        86    86   86   86     86     86      86    86     12   \n",
       "(10, 20]     162       162   162  162  162    162    162     162   162     25   \n",
       "(20, 30]     361       361   361  361  361    361    361     361   361     62   \n",
       "(30, 40]     210       210   210  210  210    210    210     210   210     65   \n",
       "(40, 50]     132       132   132  132  132    132    132     132   132     54   \n",
       "(50, 60]      62        62    62   62   62     62     62      62    62     36   \n",
       "(60, 70]      27        27    27   27   27     27     27      27    26     15   \n",
       "(70, 80]       6         6     6    6    6      6      6       6     6      3   \n",
       "\n",
       "          embarked  boat  body  home.dest  \n",
       "age                                        \n",
       "(0, 10]         86    50     1         51  \n",
       "(10, 20]       162    59    13         98  \n",
       "(20, 30]       361   132    33        208  \n",
       "(30, 40]       209    90    32        141  \n",
       "(40, 50]       132    49    22        103  \n",
       "(50, 60]        62    29     9         58  \n",
       "(60, 70]        26     6     8         22  \n",
       "(70, 80]         6     2     2          4  "
      ]
     },
     "execution_count": 16,
     "metadata": {},
     "output_type": "execute_result"
    }
   ],
   "source": [
    "# Did the age matter?\n",
    "bins = [0,10,20,30,40,50,60,70,80] \n",
    "age=df.groupby([(pd.cut(df.age, bins))]).count()\n",
    "age"
   ]
  },
  {
   "cell_type": "code",
   "execution_count": 17,
   "metadata": {},
   "outputs": [
    {
     "data": {
      "text/html": [
       "<div>\n",
       "<style scoped>\n",
       "    .dataframe tbody tr th:only-of-type {\n",
       "        vertical-align: middle;\n",
       "    }\n",
       "\n",
       "    .dataframe tbody tr th {\n",
       "        vertical-align: top;\n",
       "    }\n",
       "\n",
       "    .dataframe thead th {\n",
       "        text-align: right;\n",
       "    }\n",
       "</style>\n",
       "<table border=\"1\" class=\"dataframe\">\n",
       "  <thead>\n",
       "    <tr style=\"text-align: right;\">\n",
       "      <th></th>\n",
       "      <th></th>\n",
       "      <th>pclass</th>\n",
       "      <th>survived</th>\n",
       "      <th>age</th>\n",
       "      <th>sibsp</th>\n",
       "      <th>parch</th>\n",
       "      <th>fare</th>\n",
       "      <th>body</th>\n",
       "    </tr>\n",
       "    <tr>\n",
       "      <th>age</th>\n",
       "      <th>sex</th>\n",
       "      <th></th>\n",
       "      <th></th>\n",
       "      <th></th>\n",
       "      <th></th>\n",
       "      <th></th>\n",
       "      <th></th>\n",
       "      <th></th>\n",
       "    </tr>\n",
       "  </thead>\n",
       "  <tbody>\n",
       "    <tr>\n",
       "      <th rowspan=\"2\" valign=\"top\">(0, 10]</th>\n",
       "      <th>female</th>\n",
       "      <td>2.682927</td>\n",
       "      <td>0.609756</td>\n",
       "      <td>4.355693</td>\n",
       "      <td>1.463415</td>\n",
       "      <td>1.439024</td>\n",
       "      <td>26.932924</td>\n",
       "      <td>NaN</td>\n",
       "    </tr>\n",
       "    <tr>\n",
       "      <th>male</th>\n",
       "      <td>2.622222</td>\n",
       "      <td>0.555556</td>\n",
       "      <td>4.257407</td>\n",
       "      <td>1.933333</td>\n",
       "      <td>1.377778</td>\n",
       "      <td>31.716664</td>\n",
       "      <td>4.000000</td>\n",
       "    </tr>\n",
       "    <tr>\n",
       "      <th rowspan=\"2\" valign=\"top\">(10, 20]</th>\n",
       "      <th>female</th>\n",
       "      <td>2.323529</td>\n",
       "      <td>0.735294</td>\n",
       "      <td>17.044118</td>\n",
       "      <td>0.602941</td>\n",
       "      <td>0.455882</td>\n",
       "      <td>33.923963</td>\n",
       "      <td>226.666667</td>\n",
       "    </tr>\n",
       "    <tr>\n",
       "      <th>male</th>\n",
       "      <td>2.670213</td>\n",
       "      <td>0.148936</td>\n",
       "      <td>17.457447</td>\n",
       "      <td>0.617021</td>\n",
       "      <td>0.351064</td>\n",
       "      <td>25.105453</td>\n",
       "      <td>139.100000</td>\n",
       "    </tr>\n",
       "    <tr>\n",
       "      <th rowspan=\"2\" valign=\"top\">(20, 30]</th>\n",
       "      <th>female</th>\n",
       "      <td>2.158730</td>\n",
       "      <td>0.722222</td>\n",
       "      <td>25.333333</td>\n",
       "      <td>0.476190</td>\n",
       "      <td>0.492063</td>\n",
       "      <td>42.511079</td>\n",
       "      <td>206.000000</td>\n",
       "    </tr>\n",
       "    <tr>\n",
       "      <th>male</th>\n",
       "      <td>2.485106</td>\n",
       "      <td>0.182979</td>\n",
       "      <td>25.319149</td>\n",
       "      <td>0.246809</td>\n",
       "      <td>0.072340</td>\n",
       "      <td>20.463863</td>\n",
       "      <td>169.281250</td>\n",
       "    </tr>\n",
       "    <tr>\n",
       "      <th rowspan=\"2\" valign=\"top\">(30, 40]</th>\n",
       "      <th>female</th>\n",
       "      <td>1.826667</td>\n",
       "      <td>0.813333</td>\n",
       "      <td>35.306667</td>\n",
       "      <td>0.493333</td>\n",
       "      <td>0.626667</td>\n",
       "      <td>64.832721</td>\n",
       "      <td>194.000000</td>\n",
       "    </tr>\n",
       "    <tr>\n",
       "      <th>male</th>\n",
       "      <td>2.266667</td>\n",
       "      <td>0.207407</td>\n",
       "      <td>35.018519</td>\n",
       "      <td>0.288889</td>\n",
       "      <td>0.296296</td>\n",
       "      <td>30.406387</td>\n",
       "      <td>152.766667</td>\n",
       "    </tr>\n",
       "    <tr>\n",
       "      <th rowspan=\"2\" valign=\"top\">(40, 50]</th>\n",
       "      <th>female</th>\n",
       "      <td>1.739130</td>\n",
       "      <td>0.782609</td>\n",
       "      <td>45.782609</td>\n",
       "      <td>0.456522</td>\n",
       "      <td>0.913043</td>\n",
       "      <td>66.778717</td>\n",
       "      <td>7.000000</td>\n",
       "    </tr>\n",
       "    <tr>\n",
       "      <th>male</th>\n",
       "      <td>1.813953</td>\n",
       "      <td>0.186047</td>\n",
       "      <td>45.145349</td>\n",
       "      <td>0.337209</td>\n",
       "      <td>0.139535</td>\n",
       "      <td>36.810901</td>\n",
       "      <td>158.809524</td>\n",
       "    </tr>\n",
       "    <tr>\n",
       "      <th rowspan=\"2\" valign=\"top\">(50, 60]</th>\n",
       "      <th>female</th>\n",
       "      <td>1.160000</td>\n",
       "      <td>0.920000</td>\n",
       "      <td>55.680000</td>\n",
       "      <td>0.640000</td>\n",
       "      <td>0.520000</td>\n",
       "      <td>89.606832</td>\n",
       "      <td>52.000000</td>\n",
       "    </tr>\n",
       "    <tr>\n",
       "      <th>male</th>\n",
       "      <td>1.540541</td>\n",
       "      <td>0.189189</td>\n",
       "      <td>54.851351</td>\n",
       "      <td>0.270270</td>\n",
       "      <td>0.270270</td>\n",
       "      <td>43.251803</td>\n",
       "      <td>173.250000</td>\n",
       "    </tr>\n",
       "    <tr>\n",
       "      <th rowspan=\"2\" valign=\"top\">(60, 70]</th>\n",
       "      <th>female</th>\n",
       "      <td>1.333333</td>\n",
       "      <td>0.833333</td>\n",
       "      <td>63.166667</td>\n",
       "      <td>0.500000</td>\n",
       "      <td>0.500000</td>\n",
       "      <td>83.172217</td>\n",
       "      <td>NaN</td>\n",
       "    </tr>\n",
       "    <tr>\n",
       "      <th>male</th>\n",
       "      <td>1.571429</td>\n",
       "      <td>0.047619</td>\n",
       "      <td>63.642857</td>\n",
       "      <td>0.285714</td>\n",
       "      <td>0.428571</td>\n",
       "      <td>61.018960</td>\n",
       "      <td>207.875000</td>\n",
       "    </tr>\n",
       "    <tr>\n",
       "      <th rowspan=\"2\" valign=\"top\">(70, 80]</th>\n",
       "      <th>female</th>\n",
       "      <td>1.000000</td>\n",
       "      <td>1.000000</td>\n",
       "      <td>76.000000</td>\n",
       "      <td>1.000000</td>\n",
       "      <td>0.000000</td>\n",
       "      <td>78.850000</td>\n",
       "      <td>NaN</td>\n",
       "    </tr>\n",
       "    <tr>\n",
       "      <th>male</th>\n",
       "      <td>1.800000</td>\n",
       "      <td>0.200000</td>\n",
       "      <td>73.300000</td>\n",
       "      <td>0.000000</td>\n",
       "      <td>0.000000</td>\n",
       "      <td>25.936680</td>\n",
       "      <td>96.500000</td>\n",
       "    </tr>\n",
       "  </tbody>\n",
       "</table>\n",
       "</div>"
      ],
      "text/plain": [
       "                   pclass  survived        age     sibsp     parch       fare  \\\n",
       "age      sex                                                                    \n",
       "(0, 10]  female  2.682927  0.609756   4.355693  1.463415  1.439024  26.932924   \n",
       "         male    2.622222  0.555556   4.257407  1.933333  1.377778  31.716664   \n",
       "(10, 20] female  2.323529  0.735294  17.044118  0.602941  0.455882  33.923963   \n",
       "         male    2.670213  0.148936  17.457447  0.617021  0.351064  25.105453   \n",
       "(20, 30] female  2.158730  0.722222  25.333333  0.476190  0.492063  42.511079   \n",
       "         male    2.485106  0.182979  25.319149  0.246809  0.072340  20.463863   \n",
       "(30, 40] female  1.826667  0.813333  35.306667  0.493333  0.626667  64.832721   \n",
       "         male    2.266667  0.207407  35.018519  0.288889  0.296296  30.406387   \n",
       "(40, 50] female  1.739130  0.782609  45.782609  0.456522  0.913043  66.778717   \n",
       "         male    1.813953  0.186047  45.145349  0.337209  0.139535  36.810901   \n",
       "(50, 60] female  1.160000  0.920000  55.680000  0.640000  0.520000  89.606832   \n",
       "         male    1.540541  0.189189  54.851351  0.270270  0.270270  43.251803   \n",
       "(60, 70] female  1.333333  0.833333  63.166667  0.500000  0.500000  83.172217   \n",
       "         male    1.571429  0.047619  63.642857  0.285714  0.428571  61.018960   \n",
       "(70, 80] female  1.000000  1.000000  76.000000  1.000000  0.000000  78.850000   \n",
       "         male    1.800000  0.200000  73.300000  0.000000  0.000000  25.936680   \n",
       "\n",
       "                       body  \n",
       "age      sex                 \n",
       "(0, 10]  female         NaN  \n",
       "         male      4.000000  \n",
       "(10, 20] female  226.666667  \n",
       "         male    139.100000  \n",
       "(20, 30] female  206.000000  \n",
       "         male    169.281250  \n",
       "(30, 40] female  194.000000  \n",
       "         male    152.766667  \n",
       "(40, 50] female    7.000000  \n",
       "         male    158.809524  \n",
       "(50, 60] female   52.000000  \n",
       "         male    173.250000  \n",
       "(60, 70] female         NaN  \n",
       "         male    207.875000  \n",
       "(70, 80] female         NaN  \n",
       "         male     96.500000  "
      ]
     },
     "execution_count": 17,
     "metadata": {},
     "output_type": "execute_result"
    }
   ],
   "source": [
    "# average per range\n",
    "age_by_gender=df.groupby([(pd.cut(df.age, bins)), 'sex']).mean()\n",
    "age_by_gender"
   ]
  },
  {
   "cell_type": "code",
   "execution_count": 18,
   "metadata": {},
   "outputs": [
    {
     "data": {
      "text/plain": [
       "<matplotlib.axes._subplots.AxesSubplot at 0x12ae7bf0>"
      ]
     },
     "execution_count": 18,
     "metadata": {},
     "output_type": "execute_result"
    },
    {
     "data": {
      "image/png": "[encoded data removed]",
      "text/plain": [
       "<Figure size 432x288 with 1 Axes>"
      ]
     },
     "metadata": {
      "needs_background": "light"
     },
     "output_type": "display_data"
    }
   ],
   "source": [
    "# plot\n",
    "age_by_gender['survived'].plot.bar()"
   ]
  },
  {
   "cell_type": "markdown",
   "metadata": {},
   "source": [
    "### Prepare Data"
   ]
  },
  {
   "cell_type": "code",
   "execution_count": 19,
   "metadata": {},
   "outputs": [
    {
     "data": {
      "text/plain": [
       "pclass          0\n",
       "survived        0\n",
       "name            0\n",
       "sex             0\n",
       "age           263\n",
       "sibsp           0\n",
       "parch           0\n",
       "ticket          0\n",
       "fare            1\n",
       "cabin        1014\n",
       "embarked        2\n",
       "boat          823\n",
       "body         1188\n",
       "home.dest     564\n",
       "dtype: int64"
      ]
     },
     "execution_count": 19,
     "metadata": {},
     "output_type": "execute_result"
    }
   ],
   "source": [
    "# count the missing values\n",
    "df.isnull().sum()"
   ]
  },
  {
   "cell_type": "code",
   "execution_count": 20,
   "metadata": {},
   "outputs": [
    {
     "data": {
      "text/html": [
       "<div>\n",
       "<style scoped>\n",
       "    .dataframe tbody tr th:only-of-type {\n",
       "        vertical-align: middle;\n",
       "    }\n",
       "\n",
       "    .dataframe tbody tr th {\n",
       "        vertical-align: top;\n",
       "    }\n",
       "\n",
       "    .dataframe thead th {\n",
       "        text-align: right;\n",
       "    }\n",
       "</style>\n",
       "<table border=\"1\" class=\"dataframe\">\n",
       "  <thead>\n",
       "    <tr style=\"text-align: right;\">\n",
       "      <th></th>\n",
       "      <th>pclass</th>\n",
       "      <th>survived</th>\n",
       "      <th>name</th>\n",
       "      <th>sex</th>\n",
       "      <th>age</th>\n",
       "      <th>sibsp</th>\n",
       "      <th>parch</th>\n",
       "      <th>ticket</th>\n",
       "      <th>fare</th>\n",
       "      <th>cabin</th>\n",
       "      <th>embarked</th>\n",
       "      <th>boat</th>\n",
       "      <th>body</th>\n",
       "      <th>home.dest</th>\n",
       "    </tr>\n",
       "  </thead>\n",
       "  <tbody>\n",
       "    <tr>\n",
       "      <th>0</th>\n",
       "      <td>1</td>\n",
       "      <td>1</td>\n",
       "      <td>Allen, Miss. Elisabeth Walton</td>\n",
       "      <td>female</td>\n",
       "      <td>29.0000</td>\n",
       "      <td>0</td>\n",
       "      <td>0</td>\n",
       "      <td>24160</td>\n",
       "      <td>211.3375</td>\n",
       "      <td>B5</td>\n",
       "      <td>S</td>\n",
       "      <td>2</td>\n",
       "      <td>NaN</td>\n",
       "      <td>St Louis, MO</td>\n",
       "    </tr>\n",
       "    <tr>\n",
       "      <th>1</th>\n",
       "      <td>1</td>\n",
       "      <td>1</td>\n",
       "      <td>Allison, Master. Hudson Trevor</td>\n",
       "      <td>male</td>\n",
       "      <td>0.9167</td>\n",
       "      <td>1</td>\n",
       "      <td>2</td>\n",
       "      <td>113781</td>\n",
       "      <td>151.5500</td>\n",
       "      <td>C22 C26</td>\n",
       "      <td>S</td>\n",
       "      <td>11</td>\n",
       "      <td>NaN</td>\n",
       "      <td>Montreal, PQ / Chesterville, ON</td>\n",
       "    </tr>\n",
       "    <tr>\n",
       "      <th>2</th>\n",
       "      <td>1</td>\n",
       "      <td>0</td>\n",
       "      <td>Allison, Miss. Helen Loraine</td>\n",
       "      <td>female</td>\n",
       "      <td>2.0000</td>\n",
       "      <td>1</td>\n",
       "      <td>2</td>\n",
       "      <td>113781</td>\n",
       "      <td>151.5500</td>\n",
       "      <td>C22 C26</td>\n",
       "      <td>S</td>\n",
       "      <td>NaN</td>\n",
       "      <td>NaN</td>\n",
       "      <td>Montreal, PQ / Chesterville, ON</td>\n",
       "    </tr>\n",
       "    <tr>\n",
       "      <th>3</th>\n",
       "      <td>1</td>\n",
       "      <td>0</td>\n",
       "      <td>Allison, Mr. Hudson Joshua Creighton</td>\n",
       "      <td>male</td>\n",
       "      <td>30.0000</td>\n",
       "      <td>1</td>\n",
       "      <td>2</td>\n",
       "      <td>113781</td>\n",
       "      <td>151.5500</td>\n",
       "      <td>C22 C26</td>\n",
       "      <td>S</td>\n",
       "      <td>NaN</td>\n",
       "      <td>135.0</td>\n",
       "      <td>Montreal, PQ / Chesterville, ON</td>\n",
       "    </tr>\n",
       "    <tr>\n",
       "      <th>4</th>\n",
       "      <td>1</td>\n",
       "      <td>0</td>\n",
       "      <td>Allison, Mrs. Hudson J C (Bessie Waldo Daniels)</td>\n",
       "      <td>female</td>\n",
       "      <td>25.0000</td>\n",
       "      <td>1</td>\n",
       "      <td>2</td>\n",
       "      <td>113781</td>\n",
       "      <td>151.5500</td>\n",
       "      <td>C22 C26</td>\n",
       "      <td>S</td>\n",
       "      <td>NaN</td>\n",
       "      <td>NaN</td>\n",
       "      <td>Montreal, PQ / Chesterville, ON</td>\n",
       "    </tr>\n",
       "  </tbody>\n",
       "</table>\n",
       "</div>"
      ],
      "text/plain": [
       "   pclass  survived                                             name     sex  \\\n",
       "0       1         1                    Allen, Miss. Elisabeth Walton  female   \n",
       "1       1         1                   Allison, Master. Hudson Trevor    male   \n",
       "2       1         0                     Allison, Miss. Helen Loraine  female   \n",
       "3       1         0             Allison, Mr. Hudson Joshua Creighton    male   \n",
       "4       1         0  Allison, Mrs. Hudson J C (Bessie Waldo Daniels)  female   \n",
       "\n",
       "       age  sibsp  parch  ticket      fare    cabin embarked boat   body  \\\n",
       "0  29.0000      0      0   24160  211.3375       B5        S    2    NaN   \n",
       "1   0.9167      1      2  113781  151.5500  C22 C26        S   11    NaN   \n",
       "2   2.0000      1      2  113781  151.5500  C22 C26        S  NaN    NaN   \n",
       "3  30.0000      1      2  113781  151.5500  C22 C26        S  NaN  135.0   \n",
       "4  25.0000      1      2  113781  151.5500  C22 C26        S  NaN    NaN   \n",
       "\n",
       "                         home.dest  \n",
       "0                     St Louis, MO  \n",
       "1  Montreal, PQ / Chesterville, ON  \n",
       "2  Montreal, PQ / Chesterville, ON  \n",
       "3  Montreal, PQ / Chesterville, ON  \n",
       "4  Montreal, PQ / Chesterville, ON  "
      ]
     },
     "execution_count": 20,
     "metadata": {},
     "output_type": "execute_result"
    }
   ],
   "source": [
    "# fill the missing home destination with 'NA'\n",
    "df[\"home.dest\"] = df[\"home.dest\"].fillna(\"NA\")\n",
    "df.head()"
   ]
  },
  {
   "cell_type": "code",
   "execution_count": 21,
   "metadata": {},
   "outputs": [
    {
     "data": {
      "text/plain": [
       "(1309, 11)"
      ]
     },
     "execution_count": 21,
     "metadata": {},
     "output_type": "execute_result"
    }
   ],
   "source": [
    "# remove most empty columns, which are not so informative\n",
    "df = df.drop(['body', 'cabin', 'boat'], axis=1)\n",
    "df.shape"
   ]
  },
  {
   "cell_type": "code",
   "execution_count": 22,
   "metadata": {},
   "outputs": [],
   "source": [
    "# replace the missing age with the average age\n",
    "\n",
    "mean_age = df[\"age\"].mean()\n",
    "\n",
    "df[\"age\"] = df[\"age\"].fillna(df.age.mean())"
   ]
  },
  {
   "cell_type": "code",
   "execution_count": 23,
   "metadata": {},
   "outputs": [
    {
     "data": {
      "text/plain": [
       "pclass       1309\n",
       "survived     1309\n",
       "name         1309\n",
       "sex          1309\n",
       "age          1309\n",
       "sibsp        1309\n",
       "parch        1309\n",
       "ticket       1309\n",
       "fare         1308\n",
       "embarked     1307\n",
       "home.dest    1309\n",
       "dtype: int64"
      ]
     },
     "execution_count": 23,
     "metadata": {},
     "output_type": "execute_result"
    }
   ],
   "source": [
    "# see the current number of data\n",
    "df.count()"
   ]
  },
  {
   "cell_type": "code",
   "execution_count": 24,
   "metadata": {},
   "outputs": [
    {
     "data": {
      "text/plain": [
       "pclass       0\n",
       "survived     0\n",
       "name         0\n",
       "sex          0\n",
       "age          0\n",
       "sibsp        0\n",
       "parch        0\n",
       "ticket       0\n",
       "fare         1\n",
       "embarked     2\n",
       "home.dest    0\n",
       "dtype: int64"
      ]
     },
     "execution_count": 24,
     "metadata": {},
     "output_type": "execute_result"
    }
   ],
   "source": [
    "# see the current state of null values\n",
    "df.isnull().sum()"
   ]
  },
  {
   "cell_type": "code",
   "execution_count": 25,
   "metadata": {},
   "outputs": [
    {
     "data": {
      "text/plain": [
       "33.29547928134557"
      ]
     },
     "execution_count": 25,
     "metadata": {},
     "output_type": "execute_result"
    }
   ],
   "source": [
    "# replace the  missing fare values with the average\n",
    "mean_fare = df.fare.mean()\n",
    "mean_fare"
   ]
  },
  {
   "cell_type": "code",
   "execution_count": 26,
   "metadata": {},
   "outputs": [],
   "source": [
    "df['fare'] = df['fare'].fillna(mean_fare)"
   ]
  },
  {
   "cell_type": "code",
   "execution_count": 27,
   "metadata": {},
   "outputs": [
    {
     "data": {
      "text/plain": [
       "0    S\n",
       "dtype: object"
      ]
     },
     "execution_count": 27,
     "metadata": {},
     "output_type": "execute_result"
    }
   ],
   "source": [
    "# find the most used 'embarked' value\n",
    "mode_emb = df.embarked.mode()\n",
    "mode_emb"
   ]
  },
  {
   "cell_type": "code",
   "execution_count": 28,
   "metadata": {},
   "outputs": [],
   "source": [
    "# replace the missing embarked values with the mode\n",
    "df['embarked'] = df['embarked'].fillna(mode_emb[0])"
   ]
  },
  {
   "cell_type": "code",
   "execution_count": 29,
   "metadata": {},
   "outputs": [
    {
     "data": {
      "text/plain": [
       "pclass       0\n",
       "survived     0\n",
       "name         0\n",
       "sex          0\n",
       "age          0\n",
       "sibsp        0\n",
       "parch        0\n",
       "ticket       0\n",
       "fare         0\n",
       "embarked     0\n",
       "home.dest    0\n",
       "dtype: int64"
      ]
     },
     "execution_count": 29,
     "metadata": {},
     "output_type": "execute_result"
    }
   ],
   "source": [
    "df.isnull().sum()"
   ]
  },
  {
   "cell_type": "markdown",
   "metadata": {},
   "source": [
    "#### Transform data into numeric"
   ]
  },
  {
   "cell_type": "markdown",
   "metadata": {},
   "source": [
    "As a preprocessing, we will convert the strings into integer keys, making it easier for the  algorithms to find patterns. \n",
    "- “Female” and “Male” are categorical values and will be converted to 0 and 1 respectively\n",
    "- The “name”, “ticket”, and “home.dest” columns consist of non-categorical string values, which are difficult to use in our algorithm, so we will drop them from the data set"
   ]
  },
  {
   "cell_type": "code",
   "execution_count": 30,
   "metadata": {},
   "outputs": [],
   "source": [
    "# define a function for transformation\n",
    "def preprocessor(df):\n",
    "    processed_df = df.copy()\n",
    "    le = preprocessing.LabelEncoder()\n",
    "    processed_df['sex'] = le.fit_transform(df['sex'])\n",
    "    processed_df['embarked'] = le.fit_transform(df['embarked'])\n",
    "    processed_df = processed_df.drop(['name','ticket','home.dest'], axis=1)\n",
    "    return processed_df"
   ]
  },
  {
   "cell_type": "code",
   "execution_count": 31,
   "metadata": {},
   "outputs": [],
   "source": [
    "# call the transformation function\n",
    "dfp = preprocessor(df)"
   ]
  },
  {
   "cell_type": "code",
   "execution_count": 32,
   "metadata": {},
   "outputs": [
    {
     "data": {
      "text/html": [
       "<div>\n",
       "<style scoped>\n",
       "    .dataframe tbody tr th:only-of-type {\n",
       "        vertical-align: middle;\n",
       "    }\n",
       "\n",
       "    .dataframe tbody tr th {\n",
       "        vertical-align: top;\n",
       "    }\n",
       "\n",
       "    .dataframe thead th {\n",
       "        text-align: right;\n",
       "    }\n",
       "</style>\n",
       "<table border=\"1\" class=\"dataframe\">\n",
       "  <thead>\n",
       "    <tr style=\"text-align: right;\">\n",
       "      <th></th>\n",
       "      <th>pclass</th>\n",
       "      <th>survived</th>\n",
       "      <th>sex</th>\n",
       "      <th>age</th>\n",
       "      <th>sibsp</th>\n",
       "      <th>parch</th>\n",
       "      <th>fare</th>\n",
       "      <th>embarked</th>\n",
       "    </tr>\n",
       "  </thead>\n",
       "  <tbody>\n",
       "    <tr>\n",
       "      <th>0</th>\n",
       "      <td>1</td>\n",
       "      <td>1</td>\n",
       "      <td>0</td>\n",
       "      <td>29.0000</td>\n",
       "      <td>0</td>\n",
       "      <td>0</td>\n",
       "      <td>211.3375</td>\n",
       "      <td>2</td>\n",
       "    </tr>\n",
       "    <tr>\n",
       "      <th>1</th>\n",
       "      <td>1</td>\n",
       "      <td>1</td>\n",
       "      <td>1</td>\n",
       "      <td>0.9167</td>\n",
       "      <td>1</td>\n",
       "      <td>2</td>\n",
       "      <td>151.5500</td>\n",
       "      <td>2</td>\n",
       "    </tr>\n",
       "    <tr>\n",
       "      <th>2</th>\n",
       "      <td>1</td>\n",
       "      <td>0</td>\n",
       "      <td>0</td>\n",
       "      <td>2.0000</td>\n",
       "      <td>1</td>\n",
       "      <td>2</td>\n",
       "      <td>151.5500</td>\n",
       "      <td>2</td>\n",
       "    </tr>\n",
       "    <tr>\n",
       "      <th>3</th>\n",
       "      <td>1</td>\n",
       "      <td>0</td>\n",
       "      <td>1</td>\n",
       "      <td>30.0000</td>\n",
       "      <td>1</td>\n",
       "      <td>2</td>\n",
       "      <td>151.5500</td>\n",
       "      <td>2</td>\n",
       "    </tr>\n",
       "    <tr>\n",
       "      <th>4</th>\n",
       "      <td>1</td>\n",
       "      <td>0</td>\n",
       "      <td>0</td>\n",
       "      <td>25.0000</td>\n",
       "      <td>1</td>\n",
       "      <td>2</td>\n",
       "      <td>151.5500</td>\n",
       "      <td>2</td>\n",
       "    </tr>\n",
       "  </tbody>\n",
       "</table>\n",
       "</div>"
      ],
      "text/plain": [
       "   pclass  survived  sex      age  sibsp  parch      fare  embarked\n",
       "0       1         1    0  29.0000      0      0  211.3375         2\n",
       "1       1         1    1   0.9167      1      2  151.5500         2\n",
       "2       1         0    0   2.0000      1      2  151.5500         2\n",
       "3       1         0    1  30.0000      1      2  151.5500         2\n",
       "4       1         0    0  25.0000      1      2  151.5500         2"
      ]
     },
     "execution_count": 32,
     "metadata": {},
     "output_type": "execute_result"
    }
   ],
   "source": [
    "dfp.head()"
   ]
  },
  {
   "cell_type": "code",
   "execution_count": 33,
   "metadata": {},
   "outputs": [
    {
     "data": {
      "text/plain": [
       "(1309, 11)"
      ]
     },
     "execution_count": 33,
     "metadata": {},
     "output_type": "execute_result"
    }
   ],
   "source": [
    "df.shape"
   ]
  },
  {
   "cell_type": "markdown",
   "metadata": {},
   "source": [
    "### Train a model\n",
    "1. Split the data into input and output\n",
    "2. Split the data into train and test sets"
   ]
  },
  {
   "cell_type": "code",
   "execution_count": 34,
   "metadata": {},
   "outputs": [],
   "source": [
    "# Split the data into input and output\n",
    "y = dfp['survived']\n",
    "y.shape\n",
    "\n",
    "x = dfp.drop(['survived'], axis=1).values # axis=1 = culumns"
   ]
  },
  {
   "cell_type": "code",
   "execution_count": 35,
   "metadata": {},
   "outputs": [
    {
     "data": {
      "text/plain": [
       "(1309, 7)"
      ]
     },
     "execution_count": 35,
     "metadata": {},
     "output_type": "execute_result"
    }
   ],
   "source": [
    "y.shape\n",
    "x.shape"
   ]
  },
  {
   "cell_type": "code",
   "execution_count": 36,
   "metadata": {},
   "outputs": [
    {
     "data": {
      "text/plain": [
       "array([[  1.    ,   0.    ,  29.    , ...,   0.    , 211.3375,   2.    ],\n",
       "       [  1.    ,   1.    ,   0.9167, ...,   2.    , 151.55  ,   2.    ],\n",
       "       [  1.    ,   0.    ,   2.    , ...,   2.    , 151.55  ,   2.    ],\n",
       "       ...,\n",
       "       [  3.    ,   1.    ,  26.5   , ...,   0.    ,   7.225 ,   0.    ],\n",
       "       [  3.    ,   1.    ,  27.    , ...,   0.    ,   7.225 ,   0.    ],\n",
       "       [  3.    ,   1.    ,  29.    , ...,   0.    ,   7.875 ,   2.    ]])"
      ]
     },
     "execution_count": 36,
     "metadata": {},
     "output_type": "execute_result"
    }
   ],
   "source": [
    "x"
   ]
  },
  {
   "cell_type": "code",
   "execution_count": 37,
   "metadata": {},
   "outputs": [],
   "source": [
    "# Split the data into train and test sets\n",
    "# 80% of the dataset will be used for training and 20% will be used for testing\n",
    "from sklearn.model_selection import train_test_split\n",
    "\n",
    "x_train, x_test, y_train, y_test = train_test_split(x, y, test_size=0.2)"
   ]
  },
  {
   "cell_type": "code",
   "execution_count": 38,
   "metadata": {},
   "outputs": [],
   "source": [
    "# Select a method\n",
    "dt = tree.DecisionTreeClassifier(max_depth=10)"
   ]
  },
  {
   "cell_type": "code",
   "execution_count": 39,
   "metadata": {},
   "outputs": [
    {
     "data": {
      "text/plain": [
       "DecisionTreeClassifier(class_weight=None, criterion='gini', max_depth=10,\n",
       "            max_features=None, max_leaf_nodes=None,\n",
       "            min_impurity_decrease=0.0, min_impurity_split=None,\n",
       "            min_samples_leaf=1, min_samples_split=2,\n",
       "            min_weight_fraction_leaf=0.0, presort=False, random_state=None,\n",
       "            splitter='best')"
      ]
     },
     "execution_count": 39,
     "metadata": {},
     "output_type": "execute_result"
    }
   ],
   "source": [
    "# Train a model\n",
    "dt.fit(x_train, y_train)"
   ]
  },
  {
   "cell_type": "code",
   "execution_count": 40,
   "metadata": {},
   "outputs": [
    {
     "data": {
      "text/plain": [
       "0.7519083969465649"
      ]
     },
     "execution_count": 40,
     "metadata": {},
     "output_type": "execute_result"
    }
   ],
   "source": [
    "# Validate the model\n",
    "dt.score(x_test, y_test)"
   ]
  },
  {
   "cell_type": "markdown",
   "metadata": {},
   "source": [
    "The resulting value is the model accuracy. It means that the model correctly predicted the survival of this % of the test set. Not bad for start!"
   ]
  },
  {
   "cell_type": "code",
   "execution_count": 41,
   "metadata": {},
   "outputs": [
    {
     "data": {
      "text/plain": [
       "0.7862595419847328"
      ]
     },
     "execution_count": 41,
     "metadata": {},
     "output_type": "execute_result"
    }
   ],
   "source": [
    "# Try another method\n",
    "import sklearn.ensemble as ske\n",
    "rf = ske.RandomForestClassifier(n_estimators=50)\n",
    "rf.fit(x_train, y_train)\n",
    "rf.score(x_test, y_test)"
   ]
  },
  {
   "cell_type": "code",
   "execution_count": 42,
   "metadata": {},
   "outputs": [
    {
     "data": {
      "text/plain": [
       "0.8015267175572519"
      ]
     },
     "execution_count": 42,
     "metadata": {},
     "output_type": "execute_result"
    }
   ],
   "source": [
    "# Try another method\n",
    "import sklearn.ensemble as ske\n",
    "gb = ske.GradientBoostingClassifier(n_estimators=50)\n",
    "gb.fit(x_train, y_train)\n",
    "gb.score(x_test, y_test)"
   ]
  },
  {
   "cell_type": "code",
   "execution_count": 43,
   "metadata": {},
   "outputs": [
    {
     "data": {
      "text/plain": [
       "0.7862595419847328"
      ]
     },
     "execution_count": 43,
     "metadata": {},
     "output_type": "execute_result"
    }
   ],
   "source": [
    "# Try combination of methods\n",
    "import sklearn.ensemble as ske\n",
    "eclf = ske.VotingClassifier([('dt', dt), ('rf', rf), ('gb', gb)])\n",
    "eclf.fit (x_train, y_train)\n",
    "eclf.score (x_test, y_test)"
   ]
  },
  {
   "cell_type": "markdown",
   "metadata": {},
   "source": [
    "### Use the model to predict\n",
    "Once the model is trained we can use it to predict the survival of passengers in the test data set, and compare these to the known survival of each passenger using the original dataset."
   ]
  },
  {
   "cell_type": "markdown",
   "metadata": {},
   "source": [
    "#### Evaluate the performance with the test data"
   ]
  },
  {
   "cell_type": "code",
   "execution_count": 44,
   "metadata": {},
   "outputs": [],
   "source": [
    "# Test the classifier with the test input data\n",
    "prediction = eclf.predict(x_test)"
   ]
  },
  {
   "cell_type": "code",
   "execution_count": 45,
   "metadata": {},
   "outputs": [
    {
     "name": "stdout",
     "output_type": "stream",
     "text": [
      "\n",
      "########################################\n",
      "\n",
      "Classifier performance on training dataset\n",
      "\n",
      "              precision    recall  f1-score   support\n",
      "\n",
      "Non-survival       0.90      0.98      0.94       638\n",
      "    Survival       0.97      0.83      0.90       409\n",
      "\n",
      "   micro avg       0.92      0.92      0.92      1047\n",
      "   macro avg       0.93      0.91      0.92      1047\n",
      "weighted avg       0.93      0.92      0.92      1047\n",
      "\n",
      "########################################\n",
      "\n",
      "\n",
      "Classifier performance on test dataset\n",
      "\n",
      "              precision    recall  f1-score   support\n",
      "\n",
      "Non-survival       0.82      0.85      0.84       171\n",
      "    Survival       0.71      0.66      0.68        91\n",
      "\n",
      "   micro avg       0.79      0.79      0.79       262\n",
      "   macro avg       0.77      0.76      0.76       262\n",
      "weighted avg       0.78      0.79      0.78       262\n",
      "\n"
     ]
    }
   ],
   "source": [
    "# Evaluate classifier performance\n",
    "from sklearn.metrics import classification_report\n",
    "class_names = ['Non-survival', 'Survival']\n",
    "print(\"\\n\" + \"#\"*40)\n",
    "\n",
    "print(\"\\nClassifier performance on training dataset\\n\")\n",
    "print(classification_report(y_train, eclf.predict(x_train), target_names=class_names))\n",
    "print(\"#\"*40 + \"\\n\")\n",
    "\n",
    "print(\"\\nClassifier performance on test dataset\\n\")\n",
    "print(classification_report(y_test, prediction, target_names=class_names))"
   ]
  },
  {
   "cell_type": "code",
   "execution_count": 46,
   "metadata": {},
   "outputs": [
    {
     "data": {
      "text/plain": [
       "array([0, 0, 1, 0, 0, 1, 0, 0, 0, 0, 0, 0, 1, 0, 1, 1, 0, 0, 0, 0, 0, 0,\n",
       "       1, 1, 0, 1, 0, 0, 1, 1, 0, 1, 1, 1, 0, 0, 0, 0, 0, 1, 0, 1, 1, 0,\n",
       "       0, 0, 0, 1, 0, 0, 0, 0, 0, 1, 1, 0, 0, 1, 1, 0, 0, 1, 0, 1, 1, 1,\n",
       "       0, 0, 0, 0, 0, 1, 0, 0, 1, 1, 0, 0, 1, 0, 0, 0, 0, 0, 0, 1, 0, 0,\n",
       "       1, 0, 1, 1, 0, 0, 0, 1, 0, 0, 0, 0, 0, 0, 0, 0, 1, 0, 0, 1, 0, 0,\n",
       "       0, 0, 1, 0, 0, 0, 1, 0, 0, 0, 1, 0, 0, 0, 0, 0, 0, 0, 0, 0, 1, 0,\n",
       "       0, 0, 1, 1, 0, 0, 1, 1, 1, 0, 0, 0, 0, 0, 0, 0, 0, 1, 0, 0, 1, 1,\n",
       "       1, 0, 0, 1, 1, 1, 1, 0, 0, 0, 1, 0, 1, 0, 0, 0, 0, 1, 1, 0, 1, 1,\n",
       "       0, 0, 0, 0, 0, 0, 0, 0, 0, 0, 0, 0, 0, 1, 1, 0, 0, 0, 1, 0, 1, 1,\n",
       "       0, 1, 0, 0, 1, 0, 0, 0, 0, 0, 1, 1, 0, 0, 1, 1, 0, 0, 1, 0, 0, 1,\n",
       "       0, 1, 0, 0, 1, 1, 0, 1, 0, 1, 0, 0, 0, 0, 1, 0, 0, 1, 0, 0, 0, 0,\n",
       "       0, 0, 0, 1, 0, 0, 0, 1, 0, 0, 0, 1, 0, 0, 0, 0, 1, 1, 1, 0],\n",
       "      dtype=int64)"
      ]
     },
     "execution_count": 46,
     "metadata": {},
     "output_type": "execute_result"
    }
   ],
   "source": [
    "prediction = eclf.predict(x_test)\n",
    "prediction"
   ]
  },
  {
   "cell_type": "markdown",
   "metadata": {},
   "source": [
    "#### Evaluate the performance with new data"
   ]
  },
  {
   "cell_type": "code",
   "execution_count": 47,
   "metadata": {},
   "outputs": [
    {
     "data": {
      "text/plain": [
       "[array([ 1.    ,  1.    , 37.    ,  1.    ,  1.    , 83.1583,  0.    ]),\n",
       " array([ 3. ,  1. , 36.5,  1. ,  0. , 17.4,  2. ]),\n",
       " array([ 2. ,  0. , 45. ,  0. ,  0. , 13.5,  2. ]),\n",
       " array([ 3.        ,  0.        , 29.88113451,  1.        ,  0.        ,\n",
       "        15.5       ,  1.        ]),\n",
       " array([ 1.    ,  1.    , 21.    ,  0.    ,  1.    , 77.2875,  2.    ]),\n",
       " array([ 1. ,  1. , 27. ,  0. ,  0. , 30.5,  2. ]),\n",
       " array([ 1. ,  1. , 58. ,  0. ,  0. , 29.7,  0. ]),\n",
       " array([ 3.        ,  1.        , 29.88113451,  0.        ,  0.        ,\n",
       "        15.5       ,  1.        ]),\n",
       " array([ 2. ,  1. , 32. ,  0. ,  0. , 13.5,  2. ]),\n",
       " array([ 3. ,  0. ,  2. ,  3. ,  2. , 27.9,  2. ]),\n",
       " array([ 2. ,  1. , 16. ,  0. ,  0. , 10.5,  2. ]),\n",
       " array([ 3.    ,  1.    , 21.    ,  0.    ,  0.    ,  7.7333,  1.    ]),\n",
       " array([ 1.        ,  1.        , 29.88113451,  0.        ,  0.        ,\n",
       "        26.55      ,  2.        ]),\n",
       " array([ 1.  ,  1.  , 35.  ,  0.  ,  0.  , 26.55,  0.  ]),\n",
       " array([ 1.    ,  0.    , 50.    ,  0.    ,  0.    , 28.7125,  0.    ]),\n",
       " array([ 2.,  0., 32.,  0.,  0., 13.,  2.]),\n",
       " array([ 3.   ,  1.   , 22.   ,  0.   ,  0.   ,  7.125,  2.   ]),\n",
       " array([ 1.  ,  1.  , 56.  ,  0.  ,  0.  , 26.55,  2.  ]),\n",
       " array([ 3.        ,  1.        , 29.88113451,  1.        ,  0.        ,\n",
       "        14.4583    ,  0.        ]),\n",
       " array([ 2. ,  1. , 59. ,  0. ,  0. , 13.5,  2. ]),\n",
       " array([ 3.        ,  0.        , 29.88113451,  3.        ,  1.        ,\n",
       "        25.4667    ,  2.        ]),\n",
       " array([ 2.,  1., 37.,  1.,  0., 26.,  2.]),\n",
       " array([ 1.        ,  1.        , 29.88113451,  0.        ,  0.        ,\n",
       "        31.        ,  2.        ]),\n",
       " array([ 3.  ,  0.  , 22.  ,  0.  ,  0.  ,  7.25,  2.  ]),\n",
       " array([ 3. ,  1. , 28. ,  0. ,  0. ,  9.5,  2. ]),\n",
       " array([ 3.        ,  1.        , 29.88113451,  1.        ,  1.        ,\n",
       "        15.2458    ,  0.        ]),\n",
       " array([ 3.    ,  1.    ,  9.    ,  4.    ,  2.    , 31.3875,  2.    ]),\n",
       " array([ 3.   ,  1.   , 28.   ,  0.   ,  0.   , 22.525,  2.   ]),\n",
       " array([ 3.    ,  0.    , 38.    ,  0.    ,  0.    ,  7.2292,  0.    ]),\n",
       " array([ 2. ,  0. , 22. ,  0. ,  0. , 10.5,  2. ]),\n",
       " array([ 3.    ,  1.    , 32.    ,  0.    ,  0.    ,  7.8958,  2.    ]),\n",
       " array([ 2.,  0., 48.,  1.,  2., 65.,  2.]),\n",
       " array([ 3.    ,  1.    , 32.    ,  0.    ,  0.    , 56.4958,  2.    ]),\n",
       " array([ 1. ,  0. , 48. ,  1. ,  1. , 79.2,  0. ]),\n",
       " array([ 2.,  1., 32.,  1.,  0., 26.,  2.]),\n",
       " array([ 3.   ,  0.   , 48.   ,  1.   ,  3.   , 34.375,  2.   ]),\n",
       " array([ 3.   ,  1.   , 20.   ,  0.   ,  0.   ,  9.225,  2.   ]),\n",
       " array([ 3.    ,  1.    , 29.    ,  1.    ,  0.    ,  7.0458,  2.    ]),\n",
       " array([ 1. ,  1. , 53. ,  0. ,  0. , 28.5,  0. ]),\n",
       " array([ 3.   ,  1.   ,  6.   ,  0.   ,  1.   , 12.475,  2.   ]),\n",
       " array([ 3.    ,  0.    , 30.    ,  0.    ,  0.    ,  7.6292,  1.    ]),\n",
       " array([ 3.        ,  0.        , 29.88113451,  0.        ,  0.        ,\n",
       "         7.2292    ,  0.        ]),\n",
       " array([ 1.  ,  0.  , 18.  ,  0.  ,  2.  , 79.65,  2.  ]),\n",
       " array([ 2.,  1., 42.,  0.,  0., 13.,  2.]),\n",
       " array([ 3.    ,  1.    , 19.    ,  0.    ,  0.    , 10.1708,  2.    ]),\n",
       " array([ 3. ,  1. , 29. ,  0. ,  0. ,  9.5,  2. ]),\n",
       " array([ 3.        ,  1.        , 29.88113451,  0.        ,  0.        ,\n",
       "         8.4583    ,  1.        ]),\n",
       " array([  1.,   0.,  24.,   3.,   2., 263.,   2.]),\n",
       " array([ 2.,  1., 23.,  0.,  0., 13.,  2.]),\n",
       " array([ 3.   ,  1.   ,  4.   ,  4.   ,  2.   , 31.275,  2.   ]),\n",
       " array([ 3.    ,  1.    , 24.    ,  0.    ,  0.    ,  7.4958,  2.    ]),\n",
       " array([ 3.        ,  1.        , 29.88113451,  0.        ,  0.        ,\n",
       "         7.8792    ,  1.        ]),\n",
       " array([ 3.    ,  1.    , 19.    ,  0.    ,  0.    ,  7.8958,  2.    ]),\n",
       " array([ 3.   ,  1.   , 22.5  ,  0.   ,  0.   ,  7.225,  0.   ]),\n",
       " array([ 3.    ,  0.    , 15.    ,  0.    ,  0.    ,  8.0292,  1.    ]),\n",
       " array([ 3.   ,  1.   ,  7.   ,  4.   ,  1.   , 29.125,  1.   ]),\n",
       " array([  1. ,   1. ,  18. ,   1. ,   0. , 108.9,   0. ]),\n",
       " array([ 1.        ,  1.        , 29.88113451,  0.        ,  0.        ,\n",
       "        26.55      ,  2.        ]),\n",
       " array([  1.    ,   0.    ,  30.    ,   0.    ,   0.    , 164.8667,\n",
       "          2.    ]),\n",
       " array([ 3.    ,  0.    , 38.    ,  1.    ,  5.    , 31.3875,  2.    ]),\n",
       " array([ 3.    ,  1.    , 31.    ,  0.    ,  0.    ,  7.7333,  1.    ]),\n",
       " array([  1.  ,   0.  ,  25.  ,   1.  ,   2.  , 151.55,   2.  ]),\n",
       " array([ 3.   ,  0.   ,  8.   ,  3.   ,  1.   , 21.075,  2.   ]),\n",
       " array([ 2.  ,  0.  , 40.  ,  0.  ,  0.  , 15.75,  2.  ]),\n",
       " array([  1.    ,   0.    ,  29.    ,   0.    ,   0.    , 211.3375,\n",
       "          2.    ]),\n",
       " array([  1.    ,   0.    ,  15.    ,   0.    ,   1.    , 211.3375,\n",
       "          2.    ]),\n",
       " array([ 2.,  1., 18.,  0.,  0., 13.,  2.]),\n",
       " array([ 1.        ,  1.        , 29.88113451,  0.        ,  0.        ,\n",
       "        27.7208    ,  0.        ]),\n",
       " array([ 3.   ,  1.   , 32.   ,  0.   ,  0.   , 22.525,  2.   ]),\n",
       " array([ 3.        ,  1.        , 29.88113451,  0.        ,  0.        ,\n",
       "         7.75      ,  1.        ]),\n",
       " array([ 3.   ,  1.   , 25.   ,  0.   ,  0.   ,  7.925,  2.   ]),\n",
       " array([  1.    ,   1.    ,   0.9167,   1.    ,   2.    , 151.55  ,\n",
       "          2.    ]),\n",
       " array([ 3. ,  1. ,  9. ,  5. ,  2. , 46.9,  2. ]),\n",
       " array([ 3. ,  1. , 40. ,  1. ,  1. , 15.5,  1. ]),\n",
       " array([ 2.,  0., 17.,  0.,  0., 12.,  0.]),\n",
       " array([ 2.,  0., 44.,  1.,  0., 26.,  2.]),\n",
       " array([ 3.   ,  0.   , 27.   ,  0.   ,  0.   ,  7.925,  2.   ]),\n",
       " array([ 3. ,  1. , 28.5,  0. ,  0. , 16.1,  2. ]),\n",
       " array([ 2.,  0., 31.,  0.,  0., 21.,  2.]),\n",
       " array([ 3.  ,  1.  , 24.  ,  0.  ,  0.  ,  8.05,  2.  ]),\n",
       " array([ 3.   ,  0.   ,  9.   ,  2.   ,  2.   , 34.375,  2.   ]),\n",
       " array([ 3.,  1., 25.,  0.,  0.,  0.,  2.]),\n",
       " array([ 3.    ,  0.    , 26.    ,  0.    ,  0.    ,  7.8542,  2.    ]),\n",
       " array([ 3. ,  0. , 16. ,  5. ,  2. , 46.9,  2. ]),\n",
       " array([ 1. ,  1. , 24. ,  0. ,  0. , 79.2,  0. ]),\n",
       " array([ 3.    ,  0.    ,  2.    ,  0.    ,  1.    , 12.2875,  2.    ]),\n",
       " array([ 3.    ,  1.    , 17.    ,  0.    ,  0.    ,  8.6625,  2.    ]),\n",
       " array([ 3.    ,  1.    , 48.    ,  0.    ,  0.    ,  7.8542,  2.    ]),\n",
       " array([ 3.    ,  0.    ,  1.    ,  1.    ,  1.    , 12.1833,  2.    ]),\n",
       " array([  1.    ,   1.    ,  17.    ,   0.    ,   2.    , 110.8833,\n",
       "          0.    ]),\n",
       " array([ 3.   ,  1.   ,  9.   ,  0.   ,  2.   , 20.525,  2.   ]),\n",
       " array([  1.    ,   0.    ,  27.    ,   1.    ,   1.    , 247.5208,\n",
       "          0.    ]),\n",
       " array([ 3.  ,  1.  , 59.  ,  0.  ,  0.  ,  7.25,  2.  ]),\n",
       " array([ 3.        ,  1.        , 29.88113451,  0.        ,  0.        ,\n",
       "         7.7292    ,  1.        ]),\n",
       " array([ 3.        ,  1.        , 29.88113451,  0.        ,  0.        ,\n",
       "         7.225     ,  0.        ]),\n",
       " array([  1.   ,   0.   ,  30.   ,   0.   ,   0.   , 106.425,   0.   ]),\n",
       " array([ 3.  ,  1.  , 40.5 ,  0.  ,  0.  ,  7.75,  1.  ]),\n",
       " array([ 3.  ,  1.  , 30.  ,  0.  ,  0.  ,  8.05,  2.  ]),\n",
       " array([ 2.,  1., 30.,  1.,  0., 21.,  2.]),\n",
       " array([ 1.  ,  1.  , 34.  ,  0.  ,  0.  , 26.55,  2.  ]),\n",
       " array([ 1. ,  1. , 17. ,  0. ,  0. , 47.1,  2. ]),\n",
       " array([ 3.        ,  1.        , 29.88113451,  0.        ,  0.        ,\n",
       "         7.8958    ,  2.        ]),\n",
       " array([ 3.        ,  1.        , 29.88113451,  0.        ,  0.        ,\n",
       "         7.75      ,  1.        ]),\n",
       " array([ 3.    ,  1.    , 35.    ,  0.    ,  0.    ,  7.8958,  0.    ]),\n",
       " array([ 2.,  0., 28.,  1.,  0., 26.,  2.]),\n",
       " array([ 1.  ,  1.  , 65.  ,  0.  ,  0.  , 26.55,  2.  ]),\n",
       " array([ 3.   ,  0.   , 21.   ,  1.   ,  0.   ,  9.825,  2.   ]),\n",
       " array([ 2.        ,  0.        , 29.88113451,  0.        ,  0.        ,\n",
       "        21.        ,  2.        ]),\n",
       " array([ 2.  ,  1.  , 36.  ,  1.  ,  2.  , 27.75,  2.  ]),\n",
       " array([ 3.        ,  1.        , 29.88113451,  0.        ,  0.        ,\n",
       "         7.2292    ,  0.        ]),\n",
       " array([ 3.    ,  1.    , 27.    ,  0.    ,  0.    ,  7.8958,  2.    ]),\n",
       " array([ 2.,  1., 34.,  0.,  0., 13.,  2.]),\n",
       " array([ 1. ,  0. , 33. ,  0. ,  0. , 86.5,  2. ]),\n",
       " array([ 3.        ,  1.        , 29.88113451,  0.        ,  0.        ,\n",
       "         7.8958    ,  0.        ]),\n",
       " array([ 3.    ,  0.    , 30.    ,  0.    ,  0.    ,  8.6625,  2.    ]),\n",
       " array([ 1.        ,  1.        , 29.88113451,  0.        ,  0.        ,\n",
       "        27.7208    ,  0.        ]),\n",
       " array([ 2.,  0., 34.,  0.,  1., 23.,  2.]),\n",
       " array([ 3.        ,  1.        , 29.88113451,  1.        ,  0.        ,\n",
       "         7.75      ,  1.        ]),\n",
       " array([ 1.    ,  1.    , 41.    ,  1.    ,  0.    , 51.8625,  2.    ]),\n",
       " array([ 2.,  1., 36.,  0.,  0., 13.,  2.]),\n",
       " array([ 1.        ,  1.        , 29.88113451,  0.        ,  0.        ,\n",
       "        30.6958    ,  0.        ]),\n",
       " array([ 3.        ,  0.        , 29.88113451,  1.        ,  0.        ,\n",
       "        14.4542    ,  0.        ]),\n",
       " array([ 3.        ,  1.        , 29.88113451,  0.        ,  0.        ,\n",
       "         7.8958    ,  2.        ]),\n",
       " array([ 2. ,  1. , 19. ,  0. ,  0. , 10.5,  2. ]),\n",
       " array([ 3.        ,  1.        , 29.88113451,  2.        ,  0.        ,\n",
       "        21.6792    ,  0.        ]),\n",
       " array([ 3.        ,  1.        , 29.88113451,  0.        ,  0.        ,\n",
       "         8.05      ,  2.        ]),\n",
       " array([ 3.        ,  1.        , 29.88113451,  0.        ,  0.        ,\n",
       "         8.05      ,  2.        ]),\n",
       " array([ 3.  ,  1.  , 28.  ,  1.  ,  0.  , 15.85,  2.  ]),\n",
       " array([ 3.  ,  1.  , 16.  ,  1.  ,  1.  , 20.25,  2.  ]),\n",
       " array([ 1.    ,  1.    , 48.    ,  1.    ,  0.    , 76.7292,  0.    ]),\n",
       " array([ 2.,  0., 22.,  1.,  1., 29.,  2.]),\n",
       " array([ 1.    ,  1.    , 46.    ,  0.    ,  0.    , 75.2417,  0.    ]),\n",
       " array([  1.  ,   1.  ,  30.  ,   1.  ,   2.  , 151.55,   2.  ]),\n",
       " array([ 3.        ,  1.        , 29.88113451,  0.        ,  0.        ,\n",
       "         8.05      ,  2.        ]),\n",
       " array([  1.   ,   0.   ,  23.   ,   1.   ,   0.   , 113.275,   0.   ]),\n",
       " array([ 1.  ,  1.  , 52.  ,  1.  ,  1.  , 79.65,  2.  ]),\n",
       " array([ 3.  ,  1.  , 26.  ,  0.  ,  0.  ,  8.05,  2.  ]),\n",
       " array([ 2.,  1., 21.,  0.,  0., 13.,  2.]),\n",
       " array([ 2.  ,  0.  ,  7.  ,  0.  ,  2.  , 26.25,  2.  ]),\n",
       " array([ 1.    ,  0.    , 22.    ,  0.    ,  1.    , 61.9792,  0.    ]),\n",
       " array([ 3. ,  1. , 21. ,  0. ,  0. ,  7.8,  2. ]),\n",
       " array([ 3.    ,  1.    , 12.    ,  1.    ,  0.    , 11.2417,  0.    ]),\n",
       " array([ 3.   ,  1.   , 16.   ,  1.   ,  3.   , 34.375,  2.   ]),\n",
       " array([ 3.,  1., 19.,  0.,  0.,  0.,  2.]),\n",
       " array([ 3.        ,  0.        , 29.88113451,  1.        ,  0.        ,\n",
       "        15.5       ,  1.        ]),\n",
       " array([ 3.        ,  1.        , 29.88113451,  1.        ,  0.        ,\n",
       "        19.9667    ,  2.        ]),\n",
       " array([ 3.        ,  1.        , 29.88113451,  0.        ,  0.        ,\n",
       "         7.8958    ,  2.        ]),\n",
       " array([ 3.        ,  1.        , 29.88113451,  0.        ,  0.        ,\n",
       "         7.225     ,  0.        ]),\n",
       " array([ 2.,  1., 39.,  0.,  0., 13.,  2.]),\n",
       " array([ 1. ,  0. , 16. ,  0. ,  1. , 39.4,  2. ]),\n",
       " array([ 3.  ,  1.  , 30.  ,  0.  ,  0.  ,  8.05,  2.  ]),\n",
       " array([ 2.,  1., 63.,  1.,  0., 26.,  2.]),\n",
       " array([ 2.,  0., 26.,  1.,  1., 26.,  2.]),\n",
       " array([ 3.   ,  0.   , 27.   ,  0.   ,  1.   , 12.475,  2.   ]),\n",
       " array([ 3.   ,  1.   , 21.   ,  0.   ,  0.   ,  7.775,  2.   ]),\n",
       " array([ 3.  ,  1.  , 17.  ,  2.  ,  0.  ,  8.05,  2.  ]),\n",
       " array([ 2.    ,  1.    , 20.    ,  0.    ,  0.    , 13.8625,  0.    ]),\n",
       " array([ 2.,  0., 24.,  1.,  2., 65.,  2.]),\n",
       " array([ 2.    ,  0.    , 24.    ,  1.    ,  0.    , 27.7208,  0.    ]),\n",
       " array([ 3.  ,  1.  , 25.  ,  0.  ,  0.  ,  7.65,  2.  ]),\n",
       " array([ 2.,  0., 24.,  2.,  1., 27.,  2.]),\n",
       " array([ 3.        ,  0.        , 29.88113451,  0.        ,  0.        ,\n",
       "         7.8792    ,  1.        ]),\n",
       " array([ 2.,  1., 57.,  0.,  0., 13.,  2.]),\n",
       " array([ 2. ,  1. , 23. ,  1. ,  0. , 10.5,  2. ]),\n",
       " array([ 1.    ,  0.    , 24.    ,  0.    ,  0.    , 83.1583,  0.    ]),\n",
       " array([ 1. ,  1. , 39. ,  0. ,  0. , 29.7,  0. ]),\n",
       " array([ 1.,  0., 30.,  0.,  0., 31.,  0.]),\n",
       " array([ 3.  ,  1.  , 30.5 ,  0.  ,  0.  ,  8.05,  2.  ]),\n",
       " array([ 2. ,  1. , 23. ,  0. ,  0. , 10.5,  2. ]),\n",
       " array([ 1. ,  1. , 52. ,  0. ,  0. , 30.5,  2. ]),\n",
       " array([ 3.  ,  1.  , 29.  ,  0.  ,  0.  ,  8.05,  2.  ]),\n",
       " array([  1.    ,   0.    ,  35.    ,   0.    ,   0.    , 512.3292,\n",
       "          0.    ]),\n",
       " array([ 1.   ,  1.   , 36.   ,  0.   ,  0.   , 40.125,  0.   ]),\n",
       " array([ 2.,  1., 30.,  0.,  0., 13.,  2.]),\n",
       " array([ 1.    ,  1.    , 25.    ,  1.    ,  0.    , 91.0792,  0.    ]),\n",
       " array([ 3.        ,  0.        , 29.88113451,  0.        ,  2.        ,\n",
       "        15.2458    ,  0.        ]),\n",
       " array([ 3.        ,  1.        , 29.88113451,  0.        ,  0.        ,\n",
       "         7.8958    ,  2.        ]),\n",
       " array([ 3.        ,  1.        , 29.88113451,  0.        ,  0.        ,\n",
       "         7.8958    ,  2.        ]),\n",
       " array([ 3.  ,  1.  , 18.  ,  0.  ,  0.  ,  7.75,  2.  ]),\n",
       " array([ 3.        ,  1.        , 29.88113451,  0.        ,  0.        ,\n",
       "         7.8958    ,  2.        ]),\n",
       " array([ 2.,  1., 29.,  1.,  0., 26.,  2.]),\n",
       " array([ 3.  ,  1.  , 34.  ,  0.  ,  0.  ,  8.05,  2.  ]),\n",
       " array([ 3.    ,  0.    , 22.    ,  2.    ,  0.    ,  8.6625,  2.    ]),\n",
       " array([ 3.    ,  1.    , 17.    ,  0.    ,  0.    ,  8.6625,  2.    ]),\n",
       " array([ 3.  ,  0.  , 24.  ,  0.  ,  0.  ,  8.85,  2.  ]),\n",
       " array([ 3.        ,  1.        , 29.88113451,  2.        ,  0.        ,\n",
       "        21.6792    ,  0.        ]),\n",
       " array([ 3.    ,  1.    , 27.    ,  0.    ,  0.    ,  8.6625,  2.    ]),\n",
       " array([ 1.        ,  1.        , 29.88113451,  0.        ,  0.        ,\n",
       "         0.        ,  2.        ]),\n",
       " array([  1.    ,   1.    ,  57.    ,   1.    ,   0.    , 146.5208,\n",
       "          0.    ]),\n",
       " array([ 3.    ,  1.    ,  6.    ,  1.    ,  1.    , 15.2458,  0.    ]),\n",
       " array([ 2. ,  0. , 24. ,  0. ,  2. , 14.5,  2. ]),\n",
       " array([ 3.  ,  1.  , 35.  ,  0.  ,  0.  ,  7.05,  2.  ]),\n",
       " array([ 2.        ,  1.        , 29.88113451,  0.        ,  0.        ,\n",
       "        13.        ,  2.        ]),\n",
       " array([ 3.   ,  0.   , 40.   ,  1.   ,  0.   ,  9.475,  2.   ]),\n",
       " array([ 3.        ,  0.        , 29.88113451,  0.        ,  0.        ,\n",
       "         7.75      ,  1.        ]),\n",
       " array([ 3.  ,  1.  , 29.  ,  0.  ,  0.  ,  7.75,  1.  ]),\n",
       " array([ 3.    ,  1.    , 22.    ,  0.    ,  0.    ,  7.2292,  0.    ]),\n",
       " array([ 1.  ,  0.  , 76.  ,  1.  ,  0.  , 78.85,  2.  ]),\n",
       " array([ 3.        ,  1.        , 29.88113451,  0.        ,  0.        ,\n",
       "         8.05      ,  2.        ]),\n",
       " array([ 3.   ,  0.   , 26.   ,  0.   ,  2.   , 13.775,  2.   ]),\n",
       " array([ 3.  ,  1.  , 21.  ,  0.  ,  0.  ,  8.05,  2.  ]),\n",
       " array([ 1.    ,  1.    , 23.    ,  0.    ,  1.    , 63.3583,  0.    ]),\n",
       " array([ 2. ,  0. , 27. ,  0. ,  0. , 10.5,  2. ]),\n",
       " array([ 3.    ,  1.    , 24.    ,  0.    ,  0.    ,  7.1417,  2.    ]),\n",
       " array([ 3. ,  1. , 30. ,  1. ,  0. , 16.1,  2. ]),\n",
       " array([ 3.,  1., 47.,  0.,  0.,  9.,  2.]),\n",
       " array([ 3.    ,  1.    , 17.    ,  0.    ,  0.    ,  8.6625,  2.    ]),\n",
       " array([ 3.    ,  1.    , 27.    ,  1.    ,  0.    , 14.4542,  0.    ]),\n",
       " array([ 3.    ,  0.    ,  2.    ,  1.    ,  1.    , 20.2125,  2.    ]),\n",
       " array([ 3.    ,  0.    ,  0.75  ,  2.    ,  1.    , 19.2583,  0.    ]),\n",
       " array([ 3.,  1., 36.,  0.,  0.,  0.,  2.]),\n",
       " array([ 3.  ,  1.  , 36.  ,  1.  ,  0.  , 15.55,  2.  ]),\n",
       " array([  1.        ,   0.        ,  29.88113451,   1.        ,\n",
       "          0.        , 146.5208    ,   0.        ]),\n",
       " array([ 1.        ,  0.        , 29.88113451,  0.        ,  0.        ,\n",
       "        31.6833    ,  2.        ]),\n",
       " array([ 3. ,  1. , 14. ,  5. ,  2. , 46.9,  2. ]),\n",
       " array([ 3.        ,  1.        , 29.88113451,  0.        ,  0.        ,\n",
       "         8.05      ,  2.        ]),\n",
       " array([ 3.        ,  0.        , 29.88113451,  0.        ,  0.        ,\n",
       "         7.75      ,  1.        ]),\n",
       " array([ 2.,  1., 40.,  1.,  0., 26.,  2.]),\n",
       " array([  1.    ,   1.    ,  38.    ,   0.    ,   1.    , 153.4625,\n",
       "          2.    ]),\n",
       " array([ 3.   ,  0.   , 22.   ,  0.   ,  0.   ,  7.725,  1.   ]),\n",
       " array([ 3.  ,  0.  , 23.  ,  0.  ,  0.  ,  8.05,  2.  ]),\n",
       " array([ 1.    ,  0.    , 33.    ,  0.    ,  0.    , 27.7208,  0.    ]),\n",
       " array([ 3.    ,  1.    , 28.    ,  0.    ,  0.    ,  7.8958,  2.    ]),\n",
       " array([ 3.   ,  1.   , 27.   ,  0.   ,  0.   ,  6.975,  2.   ]),\n",
       " array([ 2.    ,  0.    , 23.    ,  0.    ,  0.    , 13.7917,  0.    ]),\n",
       " array([  1.    ,   0.    ,  39.    ,   0.    ,   0.    , 211.3375,\n",
       "          2.    ]),\n",
       " array([ 1.    ,  1.    , 71.    ,  0.    ,  0.    , 49.5042,  0.    ]),\n",
       " array([ 1.  ,  0.  , 60.  ,  1.  ,  0.  , 75.25,  0.  ]),\n",
       " array([ 3.  ,  1.  , 36.  ,  0.  ,  0.  ,  7.25,  2.  ]),\n",
       " array([ 1.    ,  0.    , 21.    ,  0.    ,  0.    , 77.9583,  2.    ]),\n",
       " array([ 2.    ,  1.    , 41.    ,  0.    ,  0.    , 15.0458,  0.    ]),\n",
       " array([ 2. ,  1. , 52. ,  0. ,  0. , 13.5,  2. ]),\n",
       " array([ 1. ,  1. , 61. ,  0. ,  0. , 33.5,  2. ]),\n",
       " array([ 3.   ,  1.   , 29.   ,  0.   ,  0.   ,  7.925,  2.   ]),\n",
       " array([ 3.        ,  0.        , 29.88113451,  1.        ,  0.        ,\n",
       "        16.1       ,  2.        ]),\n",
       " array([ 3.    ,  1.    , 36.    ,  0.    ,  0.    ,  7.4958,  2.    ]),\n",
       " array([ 3.        ,  1.        , 29.88113451,  0.        ,  0.        ,\n",
       "         7.75      ,  1.        ]),\n",
       " array([ 3.    ,  0.    , 14.5   ,  1.    ,  0.    , 14.4542,  0.    ]),\n",
       " array([ 3.        ,  0.        , 29.88113451,  0.        ,  0.        ,\n",
       "         8.05      ,  2.        ]),\n",
       " array([  1. ,   1. ,  45. ,   1. ,   1. , 134.5,   0. ]),\n",
       " array([ 1.    ,  1.    , 31.    ,  0.    ,  0.    , 50.4958,  2.    ]),\n",
       " array([ 1. ,  1. , 23. ,  0. ,  0. , 93.5,  2. ]),\n",
       " array([ 3.        ,  1.        , 29.88113451,  0.        ,  0.        ,\n",
       "         7.7375    ,  1.        ]),\n",
       " array([ 2. ,  1. , 25. ,  0. ,  0. , 10.5,  2. ]),\n",
       " array([ 1.  ,  1.  , 45.  ,  0.  ,  0.  , 26.55,  2.  ]),\n",
       " array([ 1.    ,  0.    , 43.    ,  1.    ,  0.    , 55.4417,  0.    ]),\n",
       " array([ 3.    ,  1.    , 20.    ,  0.    ,  0.    ,  7.2292,  0.    ]),\n",
       " array([ 3.    ,  0.    , 29.    ,  1.    ,  1.    , 10.4625,  2.    ]),\n",
       " array([ 3.        ,  1.        , 29.88113451,  8.        ,  2.        ,\n",
       "        69.55      ,  2.        ]),\n",
       " array([ 3.        ,  0.        , 29.88113451,  0.        ,  2.        ,\n",
       "         7.75      ,  1.        ]),\n",
       " array([ 3.        ,  1.        , 29.88113451,  0.        ,  0.        ,\n",
       "        14.5       ,  2.        ]),\n",
       " array([  1.    ,   1.    ,  67.    ,   1.    ,   0.    , 221.7792,\n",
       "          2.    ]),\n",
       " array([ 3.        ,  0.        , 29.88113451,  1.        ,  0.        ,\n",
       "        24.15      ,  1.        ]),\n",
       " array([ 2.,  0., 28.,  0.,  0., 13.,  2.]),\n",
       " array([ 2.,  1., 28.,  0.,  1., 33.,  2.]),\n",
       " array([ 2.,  1., 27.,  0.,  0., 13.,  2.]),\n",
       " array([ 3.   ,  0.   ,  6.   ,  4.   ,  2.   , 31.275,  2.   ]),\n",
       " array([ 2.    ,  1.    , 25.    ,  1.    ,  2.    , 41.5792,  0.    ]),\n",
       " array([ 2.  ,  0.  , 20.  ,  0.  ,  0.  , 36.75,  2.  ]),\n",
       " array([ 2.  ,  0.  ,  5.  ,  1.  ,  2.  , 27.75,  2.  ]),\n",
       " array([ 3.    ,  0.    , 36.    ,  0.    ,  2.    , 12.1833,  2.    ]),\n",
       " array([ 2. ,  1. , 66. ,  0. ,  0. , 10.5,  2. ])]"
      ]
     },
     "execution_count": 47,
     "metadata": {},
     "output_type": "execute_result"
    }
   ],
   "source": [
    "list(x_test)"
   ]
  },
  {
   "cell_type": "code",
   "execution_count": 48,
   "metadata": {},
   "outputs": [],
   "source": [
    "# Enter a new data set for a person\n",
    "my_set1 = ([[1,0,29.00,0,0,211.3375,0]])\n",
    "my_set2 = ([[3.    ,   1.    ,  29.    , 0,   0.    ,   7.875 ,   0.   ]])\n",
    "my_set3 = ([[3.    ,   1.    ,  29.    , 0,   0.    ,   7.875 ,   0.   ]])"
   ]
  },
  {
   "cell_type": "code",
   "execution_count": 49,
   "metadata": {},
   "outputs": [
    {
     "data": {
      "text/plain": [
       "[0]"
      ]
     },
     "execution_count": 49,
     "metadata": {},
     "output_type": "execute_result"
    }
   ],
   "source": [
    "prediction = eclf.predict(my_set3)\n",
    "list(prediction)"
   ]
  },
  {
   "cell_type": "markdown",
   "metadata": {},
   "source": [
    "## Reference\n",
    "https://www.kaggle.com/c/titanic/data <br>\n",
    "https://blog.socialcops.com/technology/data-science/machine-learning-python/<br>\n",
    "https://www.youtube.com/watch?v=siEPqQsPLKA"
   ]
  }
 ],
 "metadata": {
  "kernelspec": {
   "display_name": "Python 3",
   "language": "python",
   "name": "python3"
  },
  "language_info": {
   "codemirror_mode": {
    "name": "ipython",
    "version": 3
   },
   "file_extension": ".py",
   "mimetype": "text/x-python",
   "name": "python",
   "nbconvert_exporter": "python",
   "pygments_lexer": "ipython3",
   "version": "3.7.2"
  }
 },
 "nbformat": 4,
 "nbformat_minor": 2
}
